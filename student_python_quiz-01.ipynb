{
 "cells": [
  {
   "cell_type": "markdown",
   "metadata": {},
   "source": [
    "# Quiz on Python Basics, Control Flow, Functions, Lists, and File I/O\n",
    "\n",
    "This quiz covers topics from weeks 1, 2, 3, and file I/O from week 4. Answer each question and run the corresponding cell to check your answer."
   ]
  },
  {
   "cell_type": "code",
   "metadata": {
    "ExecuteTime": {
     "end_time": "2024-07-23T01:54:59.895178Z",
     "start_time": "2024-07-23T01:54:59.884063Z"
    }
   },
   "source": [
    "# Import necessary libraries\n",
    "import json"
   ],
   "outputs": [],
   "execution_count": 63
  },
  {
   "cell_type": "markdown",
   "metadata": {},
   "source": [
    "### Question 1: Print \"Hello, World!\"\n",
    "\n",
    "Write a Python program that prints \"Hello, World!\"."
   ]
  },
  {
   "cell_type": "code",
   "metadata": {
    "ExecuteTime": {
     "end_time": "2024-07-26T01:43:29.768170Z",
     "start_time": "2024-07-26T01:43:29.758217Z"
    }
   },
   "source": [
    "# Your code here\n",
    "def q1():\n",
    "    hello = \"Hello, World!\"\n",
    "    return hello\n",
    "\n",
    "print(q1())\n",
    "\n",
    "# Test Function\n",
    "def test_q1():\n",
    "    assert q1() == \"Hello, World!\", \"The output should be 'Hello, World!'\"\n",
    "    print(\"Question 1 is correct!\")\n",
    "\n",
    "test_q1()"
   ],
   "outputs": [
    {
     "name": "stdout",
     "output_type": "stream",
     "text": [
      "Hello, World!\n",
      "Question 1 is correct!\n"
     ]
    }
   ],
   "execution_count": 11
  },
  {
   "cell_type": "markdown",
   "metadata": {},
   "source": [
    "### Question 2: Add a comment to the following code\n",
    "\n",
    "Add a comment to the following code: `print(\"Hello, World!\")`"
   ]
  },
  {
   "cell_type": "code",
   "metadata": {
    "ExecuteTime": {
     "end_time": "2024-07-26T01:43:37.998902Z",
     "start_time": "2024-07-26T01:43:37.988146Z"
    }
   },
   "source": [
    "# Your code here\n",
    "#This is my comment\n",
    "print(\"Hello, World!\")\n",
    "# Test Function\n",
    "def test_q2():\n",
    "    # Check if a comment is added (this is more of a manual check)\n",
    "    print(\"Check if a comment is added above the print statement.\")\n",
    "    print(\"Question 2 is correct if a comment is present.\")\n",
    "\n",
    "test_q2()"
   ],
   "outputs": [
    {
     "name": "stdout",
     "output_type": "stream",
     "text": [
      "Hello, World!\n",
      "Check if a comment is added above the print statement.\n",
      "Question 2 is correct if a comment is present.\n"
     ]
    }
   ],
   "execution_count": 12
  },
  {
   "cell_type": "markdown",
   "metadata": {},
   "source": [
    "### Question 3: Perform arithmetic operations\n",
    "\n",
    "Write a program that adds, subtracts, multiplies, and divides two numbers."
   ]
  },
  {
   "cell_type": "code",
   "metadata": {
    "ExecuteTime": {
     "end_time": "2024-07-26T01:19:30.929852Z",
     "start_time": "2024-07-26T01:19:30.907273Z"
    }
   },
   "source": [
    "# Your code here\n",
    "def arithmetic_operations(a, b):\n",
    "    add = a + b\n",
    "    subtract = a - b\n",
    "    multiply = a * b\n",
    "    divide = a / b\n",
    "    return add, subtract, multiply, divide\n",
    "\n",
    "print(arithmetic_operations(8, 2))\n",
    "\n",
    "# Test Function\n",
    "def test_q3():\n",
    "    assert arithmetic_operations(8, 2) == (10, 6, 16, 4.0), \"The arithmetic operations should return correct results\"\n",
    "    print(\"Question 3 is correct!\")\n",
    "\n",
    "test_q3()"
   ],
   "outputs": [
    {
     "name": "stdout",
     "output_type": "stream",
     "text": [
      "(10, 6, 16, 4.0)\n",
      "Question 3 is correct!\n"
     ]
    }
   ],
   "execution_count": 1
  },
  {
   "cell_type": "markdown",
   "metadata": {},
   "source": [
    "### Question 4: Variable declaration and printing\n",
    "\n",
    "Write a program that declares variables and prints their values."
   ]
  },
  {
   "cell_type": "code",
   "metadata": {
    "ExecuteTime": {
     "end_time": "2024-07-26T01:41:16.823888Z",
     "start_time": "2024-07-26T01:41:16.789317Z"
    }
   },
   "source": [
    "#Your code here\n",
    "def variable_declaration(name, age):\n",
    "    name = n\n",
    "    age = 25\n",
    "    return n, age\n",
    "\n",
    "print(name, age)\n",
    "\n",
    "# Test Function\n",
    "def test_q4():\n",
    "    assert variable_declaration() == (\"Alice\", 25), \"The variables should be correctly declared and printed\"\n",
    "    print(\"Question 4 is correct!\")\n",
    "\n",
    "test_q4()"
   ],
   "outputs": [
    {
     "ename": "NameError",
     "evalue": "name 'name' is not defined",
     "output_type": "error",
     "traceback": [
      "\u001B[1;31m---------------------------------------------------------------------------\u001B[0m",
      "\u001B[1;31mNameError\u001B[0m                                 Traceback (most recent call last)",
      "Cell \u001B[1;32mIn[9], line 7\u001B[0m\n\u001B[0;32m      4\u001B[0m     age \u001B[38;5;241m=\u001B[39m \u001B[38;5;241m25\u001B[39m\n\u001B[0;32m      5\u001B[0m     \u001B[38;5;28;01mreturn\u001B[39;00m n, age\n\u001B[1;32m----> 7\u001B[0m \u001B[38;5;28mprint\u001B[39m(\u001B[43mname\u001B[49m, age)\n\u001B[0;32m      9\u001B[0m \u001B[38;5;66;03m# Test Function\u001B[39;00m\n\u001B[0;32m     10\u001B[0m \u001B[38;5;28;01mdef\u001B[39;00m \u001B[38;5;21mtest_q4\u001B[39m():\n",
      "\u001B[1;31mNameError\u001B[0m: name 'name' is not defined"
     ]
    }
   ],
   "execution_count": 9
  },
  {
   "cell_type": "markdown",
   "metadata": {},
   "source": [
    "### Question 5: Input and output\n",
    "\n",
    "Write a program that takes the user's name as input and prints a greeting."
   ]
  },
  {
   "cell_type": "code",
   "metadata": {
    "ExecuteTime": {
     "end_time": "2024-07-23T02:28:15.545530Z",
     "start_time": "2024-07-23T02:28:15.486210Z"
    }
   },
   "source": [
    "# Your code here\n",
    "def greet_user(name):\n",
    "    greet = (f\"Hello {name}!\")\n",
    "    return greet\n",
    "\n",
    "# Test Function\n",
    "def test_q5():\n",
    "    assert greet_user(\"Bob\") == \"Hello, Bob!\", \"The greeting should be correctly printed\"\n",
    "    print(\"Question 5 is correct!\")\n",
    "\n",
    "test_q5()"
   ],
   "outputs": [
    {
     "ename": "NameError",
     "evalue": "name 'greet' is not defined",
     "output_type": "error",
     "traceback": [
      "\u001B[1;31m---------------------------------------------------------------------------\u001B[0m",
      "\u001B[1;31mNameError\u001B[0m                                 Traceback (most recent call last)",
      "Cell \u001B[1;32mIn[91], line 11\u001B[0m\n\u001B[0;32m      8\u001B[0m     \u001B[38;5;28;01massert\u001B[39;00m greet_user(\u001B[38;5;124m\"\u001B[39m\u001B[38;5;124mBob\u001B[39m\u001B[38;5;124m\"\u001B[39m) \u001B[38;5;241m==\u001B[39m \u001B[38;5;124m\"\u001B[39m\u001B[38;5;124mHello, Bob!\u001B[39m\u001B[38;5;124m\"\u001B[39m, \u001B[38;5;124m\"\u001B[39m\u001B[38;5;124mThe greeting should be correctly printed\u001B[39m\u001B[38;5;124m\"\u001B[39m\n\u001B[0;32m      9\u001B[0m     \u001B[38;5;28mprint\u001B[39m(\u001B[38;5;124m\"\u001B[39m\u001B[38;5;124mQuestion 5 is correct!\u001B[39m\u001B[38;5;124m\"\u001B[39m)\n\u001B[1;32m---> 11\u001B[0m \u001B[43mtest_q5\u001B[49m\u001B[43m(\u001B[49m\u001B[43m)\u001B[49m\n",
      "Cell \u001B[1;32mIn[91], line 8\u001B[0m, in \u001B[0;36mtest_q5\u001B[1;34m()\u001B[0m\n\u001B[0;32m      7\u001B[0m \u001B[38;5;28;01mdef\u001B[39;00m \u001B[38;5;21mtest_q5\u001B[39m():\n\u001B[1;32m----> 8\u001B[0m     \u001B[38;5;28;01massert\u001B[39;00m \u001B[43mgreet_user\u001B[49m\u001B[43m(\u001B[49m\u001B[38;5;124;43m\"\u001B[39;49m\u001B[38;5;124;43mBob\u001B[39;49m\u001B[38;5;124;43m\"\u001B[39;49m\u001B[43m)\u001B[49m \u001B[38;5;241m==\u001B[39m \u001B[38;5;124m\"\u001B[39m\u001B[38;5;124mHello, Bob!\u001B[39m\u001B[38;5;124m\"\u001B[39m, \u001B[38;5;124m\"\u001B[39m\u001B[38;5;124mThe greeting should be correctly printed\u001B[39m\u001B[38;5;124m\"\u001B[39m\n\u001B[0;32m      9\u001B[0m     \u001B[38;5;28mprint\u001B[39m(\u001B[38;5;124m\"\u001B[39m\u001B[38;5;124mQuestion 5 is correct!\u001B[39m\u001B[38;5;124m\"\u001B[39m)\n",
      "Cell \u001B[1;32mIn[91], line 3\u001B[0m, in \u001B[0;36mgreet_user\u001B[1;34m(name)\u001B[0m\n\u001B[0;32m      2\u001B[0m \u001B[38;5;28;01mdef\u001B[39;00m \u001B[38;5;21mgreet_user\u001B[39m(name):\n\u001B[1;32m----> 3\u001B[0m     \u001B[43mgreet\u001B[49m (\u001B[38;5;124mf\u001B[39m\u001B[38;5;124m\"\u001B[39m\u001B[38;5;124mHello \u001B[39m\u001B[38;5;132;01m{\u001B[39;00mname\u001B[38;5;132;01m}\u001B[39;00m\u001B[38;5;124m!\u001B[39m\u001B[38;5;124m\"\u001B[39m)\n\u001B[0;32m      4\u001B[0m     \u001B[38;5;28;01mreturn\u001B[39;00m greet\n",
      "\u001B[1;31mNameError\u001B[0m: name 'greet' is not defined"
     ]
    }
   ],
   "execution_count": 91
  },
  {
   "cell_type": "markdown",
   "metadata": {},
   "source": [
    "### Question 6: String length\n",
    "\n",
    "Write a program that takes a string input and prints its length."
   ]
  },
  {
   "cell_type": "code",
   "metadata": {
    "ExecuteTime": {
     "end_time": "2024-07-23T01:55:02.089770Z",
     "start_time": "2024-07-23T01:55:02.042072Z"
    }
   },
   "source": [
    "# Your code here\n",
    "def string_length(s):\n",
    "    length = len(s)\n",
    "    return length\n",
    "\n",
    "print(string_length(\"Hello, World!\"))\n",
    "\n",
    "# Test Function\n",
    "def test_q6():\n",
    "    assert string_length(\"Hello, World!\") == 13, \"The length of the string should be correctly calculated\"\n",
    "    print(\"Question 6 is correct!\")\n",
    "\n",
    "test_q6()"
   ],
   "outputs": [
    {
     "name": "stdout",
     "output_type": "stream",
     "text": [
      "None\n"
     ]
    },
    {
     "ename": "AssertionError",
     "evalue": "The length of the string should be correctly calculated",
     "output_type": "error",
     "traceback": [
      "\u001B[1;31m---------------------------------------------------------------------------\u001B[0m",
      "\u001B[1;31mAssertionError\u001B[0m                            Traceback (most recent call last)",
      "Cell \u001B[1;32mIn[68], line 12\u001B[0m\n\u001B[0;32m      9\u001B[0m     \u001B[38;5;28;01massert\u001B[39;00m string_length(\u001B[38;5;124m\"\u001B[39m\u001B[38;5;124mHello, World!\u001B[39m\u001B[38;5;124m\"\u001B[39m) \u001B[38;5;241m==\u001B[39m \u001B[38;5;241m13\u001B[39m, \u001B[38;5;124m\"\u001B[39m\u001B[38;5;124mThe length of the string should be correctly calculated\u001B[39m\u001B[38;5;124m\"\u001B[39m\n\u001B[0;32m     10\u001B[0m     \u001B[38;5;28mprint\u001B[39m(\u001B[38;5;124m\"\u001B[39m\u001B[38;5;124mQuestion 6 is correct!\u001B[39m\u001B[38;5;124m\"\u001B[39m)\n\u001B[1;32m---> 12\u001B[0m \u001B[43mtest_q6\u001B[49m\u001B[43m(\u001B[49m\u001B[43m)\u001B[49m\n",
      "Cell \u001B[1;32mIn[68], line 9\u001B[0m, in \u001B[0;36mtest_q6\u001B[1;34m()\u001B[0m\n\u001B[0;32m      8\u001B[0m \u001B[38;5;28;01mdef\u001B[39;00m \u001B[38;5;21mtest_q6\u001B[39m():\n\u001B[1;32m----> 9\u001B[0m     \u001B[38;5;28;01massert\u001B[39;00m string_length(\u001B[38;5;124m\"\u001B[39m\u001B[38;5;124mHello, World!\u001B[39m\u001B[38;5;124m\"\u001B[39m) \u001B[38;5;241m==\u001B[39m \u001B[38;5;241m13\u001B[39m, \u001B[38;5;124m\"\u001B[39m\u001B[38;5;124mThe length of the string should be correctly calculated\u001B[39m\u001B[38;5;124m\"\u001B[39m\n\u001B[0;32m     10\u001B[0m     \u001B[38;5;28mprint\u001B[39m(\u001B[38;5;124m\"\u001B[39m\u001B[38;5;124mQuestion 6 is correct!\u001B[39m\u001B[38;5;124m\"\u001B[39m)\n",
      "\u001B[1;31mAssertionError\u001B[0m: The length of the string should be correctly calculated"
     ]
    }
   ],
   "execution_count": 68
  },
  {
   "cell_type": "markdown",
   "metadata": {},
   "source": [
    "### Question 7: String manipulation\n",
    "\n",
    "Write a program that converts a string to uppercase and prints it."
   ]
  },
  {
   "cell_type": "code",
   "metadata": {
    "ExecuteTime": {
     "end_time": "2024-07-26T01:28:26.945776Z",
     "start_time": "2024-07-26T01:28:26.926829Z"
    }
   },
   "source": [
    "# Your code here\n",
    "def string_to_upper(s):\n",
    "    case = s.upper()\n",
    "    return case\n",
    "\n",
    "print(string_to_upper(\"hello\"))\n",
    "\n",
    "# Test Function\n",
    "def test_q7():\n",
    "    assert string_to_upper(\"hello\") == \"HELLO\", \"The string should be correctly converted to uppercase\"\n",
    "    print(\"Question 7 is correct!\")\n",
    "\n",
    "test_q7()"
   ],
   "outputs": [
    {
     "name": "stdout",
     "output_type": "stream",
     "text": [
      "HELLO\n",
      "Question 7 is correct!\n"
     ]
    }
   ],
   "execution_count": 4
  },
  {
   "cell_type": "markdown",
   "metadata": {},
   "source": [
    "### Question 8: String concatenation\n",
    "\n",
    "Write a program that concatenates two strings."
   ]
  },
  {
   "cell_type": "code",
   "metadata": {
    "ExecuteTime": {
     "end_time": "2024-07-26T01:30:22.476317Z",
     "start_time": "2024-07-26T01:30:22.452221Z"
    }
   },
   "source": [
    "# Your code here\n",
    "def concatenate_strings(s1, s2):\n",
    "    string1 = s1\n",
    "    string2 = s2\n",
    "    return s1 + s2\n",
    "\n",
    "print(concatenate_strings(\"Hello, \", \"World!\"))\n",
    "\n",
    "# Test Function\n",
    "def test_q8():\n",
    "    assert concatenate_strings(\"Hello, \", \"World!\") == \"Hello, World!\", \"The strings should be correctly concatenated\"\n",
    "    print(\"Question 8 is correct!\")\n",
    "\n",
    "test_q8()"
   ],
   "outputs": [
    {
     "name": "stdout",
     "output_type": "stream",
     "text": [
      "Hello, World!\n",
      "Question 8 is correct!\n"
     ]
    }
   ],
   "execution_count": 5
  },
  {
   "cell_type": "markdown",
   "metadata": {},
   "source": [
    "# Week 2: Control Flow"
   ]
  },
  {
   "cell_type": "markdown",
   "metadata": {},
   "source": [
    "### Question 9: If statements\n",
    "\n",
    "Write a program that checks if a number is positive, negative, or zero."
   ]
  },
  {
   "cell_type": "code",
   "metadata": {
    "ExecuteTime": {
     "end_time": "2024-07-26T01:35:59.981056Z",
     "start_time": "2024-07-26T01:35:59.961683Z"
    }
   },
   "source": [
    "# Your code here\n",
    "def check_number(n):\n",
    "    n = int(check_number(n))\n",
    "    if n > 0 :\n",
    "        return \"Positive\"\n",
    "    elif n < 0 :\n",
    "        return \"Negative\"\n",
    "        else n = 0 :\n",
    "        return \"Zero\"\n",
    "\n",
    "print(check_number(5))\n",
    "print(check_number(-3))\n",
    "print(check_number(0))\n",
    "\n",
    "# Test Function\n",
    "def test_q9():\n",
    "    assert check_number(5) == \"Positive\", \"The number should be correctly identified as positive\"\n",
    "    assert check_number(-3) == \"Negative\", \"The number should be correctly identified as negative\"\n",
    "    assert check_number(0) == \"Zero\", \"The number should be correctly identified as zero\"\n",
    "    print(\"Question 9 is correct!\")\n",
    "\n",
    "test_q9()"
   ],
   "outputs": [
    {
     "ename": "SyntaxError",
     "evalue": "invalid syntax (2586470754.py, line 8)",
     "output_type": "error",
     "traceback": [
      "\u001B[1;36m  Cell \u001B[1;32mIn[7], line 8\u001B[1;36m\u001B[0m\n\u001B[1;33m    else n = 0 :\u001B[0m\n\u001B[1;37m    ^\u001B[0m\n\u001B[1;31mSyntaxError\u001B[0m\u001B[1;31m:\u001B[0m invalid syntax\n"
     ]
    }
   ],
   "execution_count": 7
  },
  {
   "cell_type": "markdown",
   "metadata": {},
   "source": [
    "### Question 10: Logical operators\n",
    "\n",
    "Write a program that checks if a number is within a specific range."
   ]
  },
  {
   "cell_type": "code",
   "metadata": {
    "ExecuteTime": {
     "end_time": "2024-07-23T01:55:02.837238Z",
     "start_time": "2024-07-23T01:55:02.788740Z"
    }
   },
   "source": [
    "# Your code here\n",
    "def in_range(n, start, end):\n",
    "    n=\n",
    "\n",
    "print(in_range(5, 1, 10))\n",
    "print(in_range(15, 1, 10))\n",
    "\n",
    "# Test Function\n",
    "def test_q10():\n",
    "    assert in_range(5, 1, 10) == True, \"The number should be within the range\"\n",
    "    assert in_range(15, 1, 10) == False, \"The number should be outside the range\"\n",
    "    print(\"Question 10 is correct!\")\n",
    "\n",
    "test_q10()"
   ],
   "outputs": [
    {
     "name": "stdout",
     "output_type": "stream",
     "text": [
      "None\n",
      "None\n"
     ]
    },
    {
     "ename": "AssertionError",
     "evalue": "The number should be within the range",
     "output_type": "error",
     "traceback": [
      "\u001B[1;31m---------------------------------------------------------------------------\u001B[0m",
      "\u001B[1;31mAssertionError\u001B[0m                            Traceback (most recent call last)",
      "Cell \u001B[1;32mIn[72], line 14\u001B[0m\n\u001B[0;32m     11\u001B[0m     \u001B[38;5;28;01massert\u001B[39;00m in_range(\u001B[38;5;241m15\u001B[39m, \u001B[38;5;241m1\u001B[39m, \u001B[38;5;241m10\u001B[39m) \u001B[38;5;241m==\u001B[39m \u001B[38;5;28;01mFalse\u001B[39;00m, \u001B[38;5;124m\"\u001B[39m\u001B[38;5;124mThe number should be outside the range\u001B[39m\u001B[38;5;124m\"\u001B[39m\n\u001B[0;32m     12\u001B[0m     \u001B[38;5;28mprint\u001B[39m(\u001B[38;5;124m\"\u001B[39m\u001B[38;5;124mQuestion 10 is correct!\u001B[39m\u001B[38;5;124m\"\u001B[39m)\n\u001B[1;32m---> 14\u001B[0m \u001B[43mtest_q10\u001B[49m\u001B[43m(\u001B[49m\u001B[43m)\u001B[49m\n",
      "Cell \u001B[1;32mIn[72], line 10\u001B[0m, in \u001B[0;36mtest_q10\u001B[1;34m()\u001B[0m\n\u001B[0;32m      9\u001B[0m \u001B[38;5;28;01mdef\u001B[39;00m \u001B[38;5;21mtest_q10\u001B[39m():\n\u001B[1;32m---> 10\u001B[0m     \u001B[38;5;28;01massert\u001B[39;00m in_range(\u001B[38;5;241m5\u001B[39m, \u001B[38;5;241m1\u001B[39m, \u001B[38;5;241m10\u001B[39m) \u001B[38;5;241m==\u001B[39m \u001B[38;5;28;01mTrue\u001B[39;00m, \u001B[38;5;124m\"\u001B[39m\u001B[38;5;124mThe number should be within the range\u001B[39m\u001B[38;5;124m\"\u001B[39m\n\u001B[0;32m     11\u001B[0m     \u001B[38;5;28;01massert\u001B[39;00m in_range(\u001B[38;5;241m15\u001B[39m, \u001B[38;5;241m1\u001B[39m, \u001B[38;5;241m10\u001B[39m) \u001B[38;5;241m==\u001B[39m \u001B[38;5;28;01mFalse\u001B[39;00m, \u001B[38;5;124m\"\u001B[39m\u001B[38;5;124mThe number should be outside the range\u001B[39m\u001B[38;5;124m\"\u001B[39m\n\u001B[0;32m     12\u001B[0m     \u001B[38;5;28mprint\u001B[39m(\u001B[38;5;124m\"\u001B[39m\u001B[38;5;124mQuestion 10 is correct!\u001B[39m\u001B[38;5;124m\"\u001B[39m)\n",
      "\u001B[1;31mAssertionError\u001B[0m: The number should be within the range"
     ]
    }
   ],
   "execution_count": 72
  },
  {
   "cell_type": "markdown",
   "metadata": {},
   "source": [
    "### Question 11: For loop\n",
    "\n",
    "Write a for loop that prints numbers from 1 to 10."
   ]
  },
  {
   "cell_type": "code",
   "metadata": {
    "ExecuteTime": {
     "end_time": "2024-07-23T01:55:02.900390Z",
     "start_time": "2024-07-23T01:55:02.854710Z"
    }
   },
   "source": [
    "# Your code here\n",
    "def print_numbers():\n",
    "    repeat = \"yes\"\n",
    "while repeat== \"yes\":\n",
    "    repeat = print[1, 2, 3, 4, 5, 6, 7, 8, 9, 10]\n",
    "\n",
    "print(print_numbers())\n",
    "\n",
    "# Test Function\n",
    "def test_q11():\n",
    "    assert print_numbers() == [1, 2, 3, 4, 5, 6, 7, 8, 9, 10], \"The numbers should be correctly printed\"\n",
    "    print(\"Question 11 is correct!\")\n",
    "\n",
    "test_q11()"
   ],
   "outputs": [
    {
     "name": "stdout",
     "output_type": "stream",
     "text": [
      "None\n"
     ]
    },
    {
     "ename": "AssertionError",
     "evalue": "The numbers should be correctly printed",
     "output_type": "error",
     "traceback": [
      "\u001B[1;31m---------------------------------------------------------------------------\u001B[0m",
      "\u001B[1;31mAssertionError\u001B[0m                            Traceback (most recent call last)",
      "Cell \u001B[1;32mIn[73], line 12\u001B[0m\n\u001B[0;32m      9\u001B[0m     \u001B[38;5;28;01massert\u001B[39;00m print_numbers() \u001B[38;5;241m==\u001B[39m [\u001B[38;5;241m1\u001B[39m, \u001B[38;5;241m2\u001B[39m, \u001B[38;5;241m3\u001B[39m, \u001B[38;5;241m4\u001B[39m, \u001B[38;5;241m5\u001B[39m, \u001B[38;5;241m6\u001B[39m, \u001B[38;5;241m7\u001B[39m, \u001B[38;5;241m8\u001B[39m, \u001B[38;5;241m9\u001B[39m, \u001B[38;5;241m10\u001B[39m], \u001B[38;5;124m\"\u001B[39m\u001B[38;5;124mThe numbers should be correctly printed\u001B[39m\u001B[38;5;124m\"\u001B[39m\n\u001B[0;32m     10\u001B[0m     \u001B[38;5;28mprint\u001B[39m(\u001B[38;5;124m\"\u001B[39m\u001B[38;5;124mQuestion 11 is correct!\u001B[39m\u001B[38;5;124m\"\u001B[39m)\n\u001B[1;32m---> 12\u001B[0m \u001B[43mtest_q11\u001B[49m\u001B[43m(\u001B[49m\u001B[43m)\u001B[49m\n",
      "Cell \u001B[1;32mIn[73], line 9\u001B[0m, in \u001B[0;36mtest_q11\u001B[1;34m()\u001B[0m\n\u001B[0;32m      8\u001B[0m \u001B[38;5;28;01mdef\u001B[39;00m \u001B[38;5;21mtest_q11\u001B[39m():\n\u001B[1;32m----> 9\u001B[0m     \u001B[38;5;28;01massert\u001B[39;00m print_numbers() \u001B[38;5;241m==\u001B[39m [\u001B[38;5;241m1\u001B[39m, \u001B[38;5;241m2\u001B[39m, \u001B[38;5;241m3\u001B[39m, \u001B[38;5;241m4\u001B[39m, \u001B[38;5;241m5\u001B[39m, \u001B[38;5;241m6\u001B[39m, \u001B[38;5;241m7\u001B[39m, \u001B[38;5;241m8\u001B[39m, \u001B[38;5;241m9\u001B[39m, \u001B[38;5;241m10\u001B[39m], \u001B[38;5;124m\"\u001B[39m\u001B[38;5;124mThe numbers should be correctly printed\u001B[39m\u001B[38;5;124m\"\u001B[39m\n\u001B[0;32m     10\u001B[0m     \u001B[38;5;28mprint\u001B[39m(\u001B[38;5;124m\"\u001B[39m\u001B[38;5;124mQuestion 11 is correct!\u001B[39m\u001B[38;5;124m\"\u001B[39m)\n",
      "\u001B[1;31mAssertionError\u001B[0m: The numbers should be correctly printed"
     ]
    }
   ],
   "execution_count": 73
  },
  {
   "cell_type": "markdown",
   "metadata": {},
   "source": [
    "### Question 12: While loop\n",
    "\n",
    "Write a while loop that prints \"Hello\" 5 times."
   ]
  },
  {
   "cell_type": "code",
   "metadata": {
    "ExecuteTime": {
     "end_time": "2024-07-23T01:55:03.032272Z",
     "start_time": "2024-07-23T01:55:02.982387Z"
    }
   },
   "source": [
    "# Your code here\n",
    "def print_hello():\n",
    "    hello = \"Hello\"\n",
    "    return hello\n",
    "\n",
    "print(print_hello())\n",
    "\n",
    "# Test Function\n",
    "def test_q12():\n",
    "    assert print_hello() == [\"Hello\", \"Hello\", \"Hello\", \"Hello\", \"Hello\"], \"The word 'Hello' should be printed 5 times\"\n",
    "    print(\"Question 12 is correct!\")\n",
    "\n",
    "test_q12()"
   ],
   "outputs": [
    {
     "name": "stdout",
     "output_type": "stream",
     "text": [
      "None\n"
     ]
    },
    {
     "ename": "AssertionError",
     "evalue": "The word 'Hello' should be printed 5 times",
     "output_type": "error",
     "traceback": [
      "\u001B[1;31m---------------------------------------------------------------------------\u001B[0m",
      "\u001B[1;31mAssertionError\u001B[0m                            Traceback (most recent call last)",
      "Cell \u001B[1;32mIn[74], line 12\u001B[0m\n\u001B[0;32m      9\u001B[0m     \u001B[38;5;28;01massert\u001B[39;00m print_hello() \u001B[38;5;241m==\u001B[39m [\u001B[38;5;124m\"\u001B[39m\u001B[38;5;124mHello\u001B[39m\u001B[38;5;124m\"\u001B[39m, \u001B[38;5;124m\"\u001B[39m\u001B[38;5;124mHello\u001B[39m\u001B[38;5;124m\"\u001B[39m, \u001B[38;5;124m\"\u001B[39m\u001B[38;5;124mHello\u001B[39m\u001B[38;5;124m\"\u001B[39m, \u001B[38;5;124m\"\u001B[39m\u001B[38;5;124mHello\u001B[39m\u001B[38;5;124m\"\u001B[39m, \u001B[38;5;124m\"\u001B[39m\u001B[38;5;124mHello\u001B[39m\u001B[38;5;124m\"\u001B[39m], \u001B[38;5;124m\"\u001B[39m\u001B[38;5;124mThe word \u001B[39m\u001B[38;5;124m'\u001B[39m\u001B[38;5;124mHello\u001B[39m\u001B[38;5;124m'\u001B[39m\u001B[38;5;124m should be printed 5 times\u001B[39m\u001B[38;5;124m\"\u001B[39m\n\u001B[0;32m     10\u001B[0m     \u001B[38;5;28mprint\u001B[39m(\u001B[38;5;124m\"\u001B[39m\u001B[38;5;124mQuestion 12 is correct!\u001B[39m\u001B[38;5;124m\"\u001B[39m)\n\u001B[1;32m---> 12\u001B[0m \u001B[43mtest_q12\u001B[49m\u001B[43m(\u001B[49m\u001B[43m)\u001B[49m\n",
      "Cell \u001B[1;32mIn[74], line 9\u001B[0m, in \u001B[0;36mtest_q12\u001B[1;34m()\u001B[0m\n\u001B[0;32m      8\u001B[0m \u001B[38;5;28;01mdef\u001B[39;00m \u001B[38;5;21mtest_q12\u001B[39m():\n\u001B[1;32m----> 9\u001B[0m     \u001B[38;5;28;01massert\u001B[39;00m print_hello() \u001B[38;5;241m==\u001B[39m [\u001B[38;5;124m\"\u001B[39m\u001B[38;5;124mHello\u001B[39m\u001B[38;5;124m\"\u001B[39m, \u001B[38;5;124m\"\u001B[39m\u001B[38;5;124mHello\u001B[39m\u001B[38;5;124m\"\u001B[39m, \u001B[38;5;124m\"\u001B[39m\u001B[38;5;124mHello\u001B[39m\u001B[38;5;124m\"\u001B[39m, \u001B[38;5;124m\"\u001B[39m\u001B[38;5;124mHello\u001B[39m\u001B[38;5;124m\"\u001B[39m, \u001B[38;5;124m\"\u001B[39m\u001B[38;5;124mHello\u001B[39m\u001B[38;5;124m\"\u001B[39m], \u001B[38;5;124m\"\u001B[39m\u001B[38;5;124mThe word \u001B[39m\u001B[38;5;124m'\u001B[39m\u001B[38;5;124mHello\u001B[39m\u001B[38;5;124m'\u001B[39m\u001B[38;5;124m should be printed 5 times\u001B[39m\u001B[38;5;124m\"\u001B[39m\n\u001B[0;32m     10\u001B[0m     \u001B[38;5;28mprint\u001B[39m(\u001B[38;5;124m\"\u001B[39m\u001B[38;5;124mQuestion 12 is correct!\u001B[39m\u001B[38;5;124m\"\u001B[39m)\n",
      "\u001B[1;31mAssertionError\u001B[0m: The word 'Hello' should be printed 5 times"
     ]
    }
   ],
   "execution_count": 74
  },
  {
   "cell_type": "markdown",
   "metadata": {},
   "source": [
    "### Question 13: Nested loops\n",
    "\n",
    "Write a program that prints a multiplication table."
   ]
  },
  {
   "cell_type": "code",
   "metadata": {
    "ExecuteTime": {
     "end_time": "2024-07-23T01:55:03.210293Z",
     "start_time": "2024-07-23T01:55:03.160060Z"
    }
   },
   "source": [
    "# Your code here\n",
    "def multiplication_table():\n",
    "    pass\n",
    "\n",
    "print(multiplication_table())\n",
    "\n",
    "# Test Function\n",
    "def test_q13():\n",
    "    assert multiplication_table()[0] == [1, 2, 3, 4, 5, 6, 7, 8, 9, 10], \"The first row should be correct\"\n",
    "    assert multiplication_table()[9] == [10, 20, 30, 40, 50, 60, 70, 80, 90, 100], \"The last row should be correct\"\n",
    "    print(\"Question 13 is correct!\")\n",
    "\n",
    "test_q13()"
   ],
   "outputs": [
    {
     "name": "stdout",
     "output_type": "stream",
     "text": [
      "None\n"
     ]
    },
    {
     "ename": "TypeError",
     "evalue": "'NoneType' object is not subscriptable",
     "output_type": "error",
     "traceback": [
      "\u001B[1;31m---------------------------------------------------------------------------\u001B[0m",
      "\u001B[1;31mTypeError\u001B[0m                                 Traceback (most recent call last)",
      "Cell \u001B[1;32mIn[75], line 13\u001B[0m\n\u001B[0;32m     10\u001B[0m     \u001B[38;5;28;01massert\u001B[39;00m multiplication_table()[\u001B[38;5;241m9\u001B[39m] \u001B[38;5;241m==\u001B[39m [\u001B[38;5;241m10\u001B[39m, \u001B[38;5;241m20\u001B[39m, \u001B[38;5;241m30\u001B[39m, \u001B[38;5;241m40\u001B[39m, \u001B[38;5;241m50\u001B[39m, \u001B[38;5;241m60\u001B[39m, \u001B[38;5;241m70\u001B[39m, \u001B[38;5;241m80\u001B[39m, \u001B[38;5;241m90\u001B[39m, \u001B[38;5;241m100\u001B[39m], \u001B[38;5;124m\"\u001B[39m\u001B[38;5;124mThe last row should be correct\u001B[39m\u001B[38;5;124m\"\u001B[39m\n\u001B[0;32m     11\u001B[0m     \u001B[38;5;28mprint\u001B[39m(\u001B[38;5;124m\"\u001B[39m\u001B[38;5;124mQuestion 13 is correct!\u001B[39m\u001B[38;5;124m\"\u001B[39m)\n\u001B[1;32m---> 13\u001B[0m \u001B[43mtest_q13\u001B[49m\u001B[43m(\u001B[49m\u001B[43m)\u001B[49m\n",
      "Cell \u001B[1;32mIn[75], line 9\u001B[0m, in \u001B[0;36mtest_q13\u001B[1;34m()\u001B[0m\n\u001B[0;32m      8\u001B[0m \u001B[38;5;28;01mdef\u001B[39;00m \u001B[38;5;21mtest_q13\u001B[39m():\n\u001B[1;32m----> 9\u001B[0m     \u001B[38;5;28;01massert\u001B[39;00m \u001B[43mmultiplication_table\u001B[49m\u001B[43m(\u001B[49m\u001B[43m)\u001B[49m\u001B[43m[\u001B[49m\u001B[38;5;241;43m0\u001B[39;49m\u001B[43m]\u001B[49m \u001B[38;5;241m==\u001B[39m [\u001B[38;5;241m1\u001B[39m, \u001B[38;5;241m2\u001B[39m, \u001B[38;5;241m3\u001B[39m, \u001B[38;5;241m4\u001B[39m, \u001B[38;5;241m5\u001B[39m, \u001B[38;5;241m6\u001B[39m, \u001B[38;5;241m7\u001B[39m, \u001B[38;5;241m8\u001B[39m, \u001B[38;5;241m9\u001B[39m, \u001B[38;5;241m10\u001B[39m], \u001B[38;5;124m\"\u001B[39m\u001B[38;5;124mThe first row should be correct\u001B[39m\u001B[38;5;124m\"\u001B[39m\n\u001B[0;32m     10\u001B[0m     \u001B[38;5;28;01massert\u001B[39;00m multiplication_table()[\u001B[38;5;241m9\u001B[39m] \u001B[38;5;241m==\u001B[39m [\u001B[38;5;241m10\u001B[39m, \u001B[38;5;241m20\u001B[39m, \u001B[38;5;241m30\u001B[39m, \u001B[38;5;241m40\u001B[39m, \u001B[38;5;241m50\u001B[39m, \u001B[38;5;241m60\u001B[39m, \u001B[38;5;241m70\u001B[39m, \u001B[38;5;241m80\u001B[39m, \u001B[38;5;241m90\u001B[39m, \u001B[38;5;241m100\u001B[39m], \u001B[38;5;124m\"\u001B[39m\u001B[38;5;124mThe last row should be correct\u001B[39m\u001B[38;5;124m\"\u001B[39m\n\u001B[0;32m     11\u001B[0m     \u001B[38;5;28mprint\u001B[39m(\u001B[38;5;124m\"\u001B[39m\u001B[38;5;124mQuestion 13 is correct!\u001B[39m\u001B[38;5;124m\"\u001B[39m)\n",
      "\u001B[1;31mTypeError\u001B[0m: 'NoneType' object is not subscriptable"
     ]
    }
   ],
   "execution_count": 75
  },
  {
   "cell_type": "markdown",
   "metadata": {},
   "source": [
    "### Question 14: Nested conditionals\n",
    "\n",
    "Write a program that prints prime numbers between 1 and 100."
   ]
  },
  {
   "cell_type": "code",
   "metadata": {
    "ExecuteTime": {
     "end_time": "2024-07-23T01:55:03.268370Z",
     "start_time": "2024-07-23T01:55:03.228003Z"
    }
   },
   "source": [
    "# Your code here\n",
    "def prime_numbers():\n",
    "    pass\n",
    "\n",
    "print(prime_numbers())\n",
    "\n",
    "# Test Function\n",
    "def test_q14():\n",
    "    assert prime_numbers() == [2, 3, 5, 7, 11, 13, 17, 19, 23, 29, 31, 37, 41, 43, 47, 53, 59, 61, 67, 71, 73, 79, 83, 89, 97], \"The prime numbers should be correctly identified\"\n",
    "    print(\"Question 14 is correct!\")\n",
    "\n",
    "test_q14()"
   ],
   "outputs": [
    {
     "name": "stdout",
     "output_type": "stream",
     "text": [
      "None\n"
     ]
    },
    {
     "ename": "AssertionError",
     "evalue": "The prime numbers should be correctly identified",
     "output_type": "error",
     "traceback": [
      "\u001B[1;31m---------------------------------------------------------------------------\u001B[0m",
      "\u001B[1;31mAssertionError\u001B[0m                            Traceback (most recent call last)",
      "Cell \u001B[1;32mIn[76], line 12\u001B[0m\n\u001B[0;32m      9\u001B[0m     \u001B[38;5;28;01massert\u001B[39;00m prime_numbers() \u001B[38;5;241m==\u001B[39m [\u001B[38;5;241m2\u001B[39m, \u001B[38;5;241m3\u001B[39m, \u001B[38;5;241m5\u001B[39m, \u001B[38;5;241m7\u001B[39m, \u001B[38;5;241m11\u001B[39m, \u001B[38;5;241m13\u001B[39m, \u001B[38;5;241m17\u001B[39m, \u001B[38;5;241m19\u001B[39m, \u001B[38;5;241m23\u001B[39m, \u001B[38;5;241m29\u001B[39m, \u001B[38;5;241m31\u001B[39m, \u001B[38;5;241m37\u001B[39m, \u001B[38;5;241m41\u001B[39m, \u001B[38;5;241m43\u001B[39m, \u001B[38;5;241m47\u001B[39m, \u001B[38;5;241m53\u001B[39m, \u001B[38;5;241m59\u001B[39m, \u001B[38;5;241m61\u001B[39m, \u001B[38;5;241m67\u001B[39m, \u001B[38;5;241m71\u001B[39m, \u001B[38;5;241m73\u001B[39m, \u001B[38;5;241m79\u001B[39m, \u001B[38;5;241m83\u001B[39m, \u001B[38;5;241m89\u001B[39m, \u001B[38;5;241m97\u001B[39m], \u001B[38;5;124m\"\u001B[39m\u001B[38;5;124mThe prime numbers should be correctly identified\u001B[39m\u001B[38;5;124m\"\u001B[39m\n\u001B[0;32m     10\u001B[0m     \u001B[38;5;28mprint\u001B[39m(\u001B[38;5;124m\"\u001B[39m\u001B[38;5;124mQuestion 14 is correct!\u001B[39m\u001B[38;5;124m\"\u001B[39m)\n\u001B[1;32m---> 12\u001B[0m \u001B[43mtest_q14\u001B[49m\u001B[43m(\u001B[49m\u001B[43m)\u001B[49m\n",
      "Cell \u001B[1;32mIn[76], line 9\u001B[0m, in \u001B[0;36mtest_q14\u001B[1;34m()\u001B[0m\n\u001B[0;32m      8\u001B[0m \u001B[38;5;28;01mdef\u001B[39;00m \u001B[38;5;21mtest_q14\u001B[39m():\n\u001B[1;32m----> 9\u001B[0m     \u001B[38;5;28;01massert\u001B[39;00m prime_numbers() \u001B[38;5;241m==\u001B[39m [\u001B[38;5;241m2\u001B[39m, \u001B[38;5;241m3\u001B[39m, \u001B[38;5;241m5\u001B[39m, \u001B[38;5;241m7\u001B[39m, \u001B[38;5;241m11\u001B[39m, \u001B[38;5;241m13\u001B[39m, \u001B[38;5;241m17\u001B[39m, \u001B[38;5;241m19\u001B[39m, \u001B[38;5;241m23\u001B[39m, \u001B[38;5;241m29\u001B[39m, \u001B[38;5;241m31\u001B[39m, \u001B[38;5;241m37\u001B[39m, \u001B[38;5;241m41\u001B[39m, \u001B[38;5;241m43\u001B[39m, \u001B[38;5;241m47\u001B[39m, \u001B[38;5;241m53\u001B[39m, \u001B[38;5;241m59\u001B[39m, \u001B[38;5;241m61\u001B[39m, \u001B[38;5;241m67\u001B[39m, \u001B[38;5;241m71\u001B[39m, \u001B[38;5;241m73\u001B[39m, \u001B[38;5;241m79\u001B[39m, \u001B[38;5;241m83\u001B[39m, \u001B[38;5;241m89\u001B[39m, \u001B[38;5;241m97\u001B[39m], \u001B[38;5;124m\"\u001B[39m\u001B[38;5;124mThe prime numbers should be correctly identified\u001B[39m\u001B[38;5;124m\"\u001B[39m\n\u001B[0;32m     10\u001B[0m     \u001B[38;5;28mprint\u001B[39m(\u001B[38;5;124m\"\u001B[39m\u001B[38;5;124mQuestion 14 is correct!\u001B[39m\u001B[38;5;124m\"\u001B[39m)\n",
      "\u001B[1;31mAssertionError\u001B[0m: The prime numbers should be correctly identified"
     ]
    }
   ],
   "execution_count": 76
  },
  {
   "cell_type": "markdown",
   "metadata": {},
   "source": [
    "# Week 3: Functions and Lists"
   ]
  },
  {
   "cell_type": "markdown",
   "metadata": {},
   "source": [
    "### Question 15: Define a function\n",
    "\n",
    "Write a function that takes two numbers and returns their sum."
   ]
  },
  {
   "cell_type": "code",
   "metadata": {
    "ExecuteTime": {
     "end_time": "2024-07-23T01:55:03.405449Z",
     "start_time": "2024-07-23T01:55:03.364302Z"
    }
   },
   "source": [
    "# Your code here\n",
    "def add(a, b):\n",
    "    pass\n",
    "\n",
    "print(add(3, 4))\n",
    "\n",
    "# Test Function\n",
    "def test_q15():\n",
    "    assert add(3, 4) == 7, \"The function should correctly add two numbers\"\n",
    "    print(\"Question 15 is correct!\")\n",
    "\n",
    "test_q15()"
   ],
   "outputs": [
    {
     "name": "stdout",
     "output_type": "stream",
     "text": [
      "None\n"
     ]
    },
    {
     "ename": "AssertionError",
     "evalue": "The function should correctly add two numbers",
     "output_type": "error",
     "traceback": [
      "\u001B[1;31m---------------------------------------------------------------------------\u001B[0m",
      "\u001B[1;31mAssertionError\u001B[0m                            Traceback (most recent call last)",
      "Cell \u001B[1;32mIn[77], line 12\u001B[0m\n\u001B[0;32m      9\u001B[0m     \u001B[38;5;28;01massert\u001B[39;00m add(\u001B[38;5;241m3\u001B[39m, \u001B[38;5;241m4\u001B[39m) \u001B[38;5;241m==\u001B[39m \u001B[38;5;241m7\u001B[39m, \u001B[38;5;124m\"\u001B[39m\u001B[38;5;124mThe function should correctly add two numbers\u001B[39m\u001B[38;5;124m\"\u001B[39m\n\u001B[0;32m     10\u001B[0m     \u001B[38;5;28mprint\u001B[39m(\u001B[38;5;124m\"\u001B[39m\u001B[38;5;124mQuestion 15 is correct!\u001B[39m\u001B[38;5;124m\"\u001B[39m)\n\u001B[1;32m---> 12\u001B[0m \u001B[43mtest_q15\u001B[49m\u001B[43m(\u001B[49m\u001B[43m)\u001B[49m\n",
      "Cell \u001B[1;32mIn[77], line 9\u001B[0m, in \u001B[0;36mtest_q15\u001B[1;34m()\u001B[0m\n\u001B[0;32m      8\u001B[0m \u001B[38;5;28;01mdef\u001B[39;00m \u001B[38;5;21mtest_q15\u001B[39m():\n\u001B[1;32m----> 9\u001B[0m     \u001B[38;5;28;01massert\u001B[39;00m add(\u001B[38;5;241m3\u001B[39m, \u001B[38;5;241m4\u001B[39m) \u001B[38;5;241m==\u001B[39m \u001B[38;5;241m7\u001B[39m, \u001B[38;5;124m\"\u001B[39m\u001B[38;5;124mThe function should correctly add two numbers\u001B[39m\u001B[38;5;124m\"\u001B[39m\n\u001B[0;32m     10\u001B[0m     \u001B[38;5;28mprint\u001B[39m(\u001B[38;5;124m\"\u001B[39m\u001B[38;5;124mQuestion 15 is correct!\u001B[39m\u001B[38;5;124m\"\u001B[39m)\n",
      "\u001B[1;31mAssertionError\u001B[0m: The function should correctly add two numbers"
     ]
    }
   ],
   "execution_count": 77
  },
  {
   "cell_type": "markdown",
   "metadata": {},
   "source": [
    "### Question 16: Call a function\n",
    "\n",
    "Write a function that checks if a number is even or odd and call it."
   ]
  },
  {
   "cell_type": "code",
   "metadata": {
    "ExecuteTime": {
     "end_time": "2024-07-23T01:55:03.591102Z",
     "start_time": "2024-07-23T01:55:03.528253Z"
    }
   },
   "source": [
    "# Your code here\n",
    "def is_even(n):\n",
    "    pass\n",
    "\n",
    "print(is_even(4))\n",
    "print(is_even(5))\n",
    "\n",
    "# Test Function\n",
    "def test_q16():\n",
    "    assert is_even(4) == True, \"The function should return True for even numbers\"\n",
    "    assert is_even(5) == False, \"The function should return False for odd numbers\"\n",
    "    print(\"Question 16 is correct!\")\n",
    "\n",
    "test_q16()"
   ],
   "outputs": [
    {
     "name": "stdout",
     "output_type": "stream",
     "text": [
      "None\n",
      "None\n"
     ]
    },
    {
     "ename": "AssertionError",
     "evalue": "The function should return True for even numbers",
     "output_type": "error",
     "traceback": [
      "\u001B[1;31m---------------------------------------------------------------------------\u001B[0m",
      "\u001B[1;31mAssertionError\u001B[0m                            Traceback (most recent call last)",
      "Cell \u001B[1;32mIn[78], line 14\u001B[0m\n\u001B[0;32m     11\u001B[0m     \u001B[38;5;28;01massert\u001B[39;00m is_even(\u001B[38;5;241m5\u001B[39m) \u001B[38;5;241m==\u001B[39m \u001B[38;5;28;01mFalse\u001B[39;00m, \u001B[38;5;124m\"\u001B[39m\u001B[38;5;124mThe function should return False for odd numbers\u001B[39m\u001B[38;5;124m\"\u001B[39m\n\u001B[0;32m     12\u001B[0m     \u001B[38;5;28mprint\u001B[39m(\u001B[38;5;124m\"\u001B[39m\u001B[38;5;124mQuestion 16 is correct!\u001B[39m\u001B[38;5;124m\"\u001B[39m)\n\u001B[1;32m---> 14\u001B[0m \u001B[43mtest_q16\u001B[49m\u001B[43m(\u001B[49m\u001B[43m)\u001B[49m\n",
      "Cell \u001B[1;32mIn[78], line 10\u001B[0m, in \u001B[0;36mtest_q16\u001B[1;34m()\u001B[0m\n\u001B[0;32m      9\u001B[0m \u001B[38;5;28;01mdef\u001B[39;00m \u001B[38;5;21mtest_q16\u001B[39m():\n\u001B[1;32m---> 10\u001B[0m     \u001B[38;5;28;01massert\u001B[39;00m is_even(\u001B[38;5;241m4\u001B[39m) \u001B[38;5;241m==\u001B[39m \u001B[38;5;28;01mTrue\u001B[39;00m, \u001B[38;5;124m\"\u001B[39m\u001B[38;5;124mThe function should return True for even numbers\u001B[39m\u001B[38;5;124m\"\u001B[39m\n\u001B[0;32m     11\u001B[0m     \u001B[38;5;28;01massert\u001B[39;00m is_even(\u001B[38;5;241m5\u001B[39m) \u001B[38;5;241m==\u001B[39m \u001B[38;5;28;01mFalse\u001B[39;00m, \u001B[38;5;124m\"\u001B[39m\u001B[38;5;124mThe function should return False for odd numbers\u001B[39m\u001B[38;5;124m\"\u001B[39m\n\u001B[0;32m     12\u001B[0m     \u001B[38;5;28mprint\u001B[39m(\u001B[38;5;124m\"\u001B[39m\u001B[38;5;124mQuestion 16 is correct!\u001B[39m\u001B[38;5;124m\"\u001B[39m)\n",
      "\u001B[1;31mAssertionError\u001B[0m: The function should return True for even numbers"
     ]
    }
   ],
   "execution_count": 78
  },
  {
   "cell_type": "markdown",
   "metadata": {},
   "source": [
    "### Question 17: Create a list\n",
    "\n",
    "Write a program that creates a list of favorite movies and prints it."
   ]
  },
  {
   "cell_type": "code",
   "metadata": {
    "ExecuteTime": {
     "end_time": "2024-07-23T01:55:03.597670Z",
     "start_time": "2024-07-23T01:55:03.596742Z"
    }
   },
   "source": [
    "# Your code here\n",
    "def favorite_movies():\n",
    "    pass\n",
    "\n",
    "print(favorite_movies())\n",
    "\n",
    "# Test Function\n",
    "def test_q17():\n",
    "    assert favorite_movies() == [\"Inception\", \"The Matrix\", \"Interstellar\"], \"The list of favorite movies should be correctly created\"\n",
    "    print(\"Question 17 is correct!\")\n",
    "\n",
    "test_q17()"
   ],
   "outputs": [],
   "execution_count": null
  },
  {
   "cell_type": "markdown",
   "metadata": {},
   "source": [
    "### Question 18: Use list methods\n",
    "\n",
    "Write a program that adds a new movie to the list and prints the updated list."
   ]
  },
  {
   "cell_type": "code",
   "metadata": {
    "ExecuteTime": {
     "end_time": "2024-07-23T01:55:03.730733Z",
     "start_time": "2024-07-23T01:55:03.684592Z"
    }
   },
   "source": [
    "# Your code here\n",
    "def add_movie():\n",
    "    pass\n",
    "\n",
    "print(add_movie())\n",
    "\n",
    "# Test Function\n",
    "def test_q18():\n",
    "    assert add_movie() == [\"Inception\", \"The Matrix\", \"Interstellar\", \"The Dark Knight\"], \"The new movie should be added to the list\"\n",
    "    print(\"Question 18 is correct!\")\n",
    "\n",
    "test_q18()"
   ],
   "outputs": [
    {
     "name": "stdout",
     "output_type": "stream",
     "text": [
      "None\n"
     ]
    },
    {
     "ename": "AssertionError",
     "evalue": "The new movie should be added to the list",
     "output_type": "error",
     "traceback": [
      "\u001B[1;31m---------------------------------------------------------------------------\u001B[0m",
      "\u001B[1;31mAssertionError\u001B[0m                            Traceback (most recent call last)",
      "Cell \u001B[1;32mIn[79], line 12\u001B[0m\n\u001B[0;32m      9\u001B[0m     \u001B[38;5;28;01massert\u001B[39;00m add_movie() \u001B[38;5;241m==\u001B[39m [\u001B[38;5;124m\"\u001B[39m\u001B[38;5;124mInception\u001B[39m\u001B[38;5;124m\"\u001B[39m, \u001B[38;5;124m\"\u001B[39m\u001B[38;5;124mThe Matrix\u001B[39m\u001B[38;5;124m\"\u001B[39m, \u001B[38;5;124m\"\u001B[39m\u001B[38;5;124mInterstellar\u001B[39m\u001B[38;5;124m\"\u001B[39m, \u001B[38;5;124m\"\u001B[39m\u001B[38;5;124mThe Dark Knight\u001B[39m\u001B[38;5;124m\"\u001B[39m], \u001B[38;5;124m\"\u001B[39m\u001B[38;5;124mThe new movie should be added to the list\u001B[39m\u001B[38;5;124m\"\u001B[39m\n\u001B[0;32m     10\u001B[0m     \u001B[38;5;28mprint\u001B[39m(\u001B[38;5;124m\"\u001B[39m\u001B[38;5;124mQuestion 18 is correct!\u001B[39m\u001B[38;5;124m\"\u001B[39m)\n\u001B[1;32m---> 12\u001B[0m \u001B[43mtest_q18\u001B[49m\u001B[43m(\u001B[49m\u001B[43m)\u001B[49m\n",
      "Cell \u001B[1;32mIn[79], line 9\u001B[0m, in \u001B[0;36mtest_q18\u001B[1;34m()\u001B[0m\n\u001B[0;32m      8\u001B[0m \u001B[38;5;28;01mdef\u001B[39;00m \u001B[38;5;21mtest_q18\u001B[39m():\n\u001B[1;32m----> 9\u001B[0m     \u001B[38;5;28;01massert\u001B[39;00m add_movie() \u001B[38;5;241m==\u001B[39m [\u001B[38;5;124m\"\u001B[39m\u001B[38;5;124mInception\u001B[39m\u001B[38;5;124m\"\u001B[39m, \u001B[38;5;124m\"\u001B[39m\u001B[38;5;124mThe Matrix\u001B[39m\u001B[38;5;124m\"\u001B[39m, \u001B[38;5;124m\"\u001B[39m\u001B[38;5;124mInterstellar\u001B[39m\u001B[38;5;124m\"\u001B[39m, \u001B[38;5;124m\"\u001B[39m\u001B[38;5;124mThe Dark Knight\u001B[39m\u001B[38;5;124m\"\u001B[39m], \u001B[38;5;124m\"\u001B[39m\u001B[38;5;124mThe new movie should be added to the list\u001B[39m\u001B[38;5;124m\"\u001B[39m\n\u001B[0;32m     10\u001B[0m     \u001B[38;5;28mprint\u001B[39m(\u001B[38;5;124m\"\u001B[39m\u001B[38;5;124mQuestion 18 is correct!\u001B[39m\u001B[38;5;124m\"\u001B[39m)\n",
      "\u001B[1;31mAssertionError\u001B[0m: The new movie should be added to the list"
     ]
    }
   ],
   "execution_count": 79
  },
  {
   "cell_type": "markdown",
   "metadata": {},
   "source": [
    "### Question 19: Iterate over a list\n",
    "\n",
    "Write a program that prints each item in a list of numbers."
   ]
  },
  {
   "cell_type": "code",
   "metadata": {
    "ExecuteTime": {
     "end_time": "2024-07-23T01:55:03.832858Z",
     "start_time": "2024-07-23T01:55:03.774562Z"
    }
   },
   "source": [
    "# Your code here\n",
    "def print_list(numbers):\n",
    "    pass\n",
    "\n",
    "print(print_list([1, 2, 3, 4, 5]))\n",
    "\n",
    "# Test Function\n",
    "def test_q19():\n",
    "    assert print_list([1, 2, 3, 4, 5]) == [1, 2, 3, 4, 5], \"The numbers should be correctly printed\"\n",
    "    print(\"Question 19 is correct!\")\n",
    "\n",
    "test_q19()"
   ],
   "outputs": [
    {
     "name": "stdout",
     "output_type": "stream",
     "text": [
      "None\n"
     ]
    },
    {
     "ename": "AssertionError",
     "evalue": "The numbers should be correctly printed",
     "output_type": "error",
     "traceback": [
      "\u001B[1;31m---------------------------------------------------------------------------\u001B[0m",
      "\u001B[1;31mAssertionError\u001B[0m                            Traceback (most recent call last)",
      "Cell \u001B[1;32mIn[80], line 12\u001B[0m\n\u001B[0;32m      9\u001B[0m     \u001B[38;5;28;01massert\u001B[39;00m print_list([\u001B[38;5;241m1\u001B[39m, \u001B[38;5;241m2\u001B[39m, \u001B[38;5;241m3\u001B[39m, \u001B[38;5;241m4\u001B[39m, \u001B[38;5;241m5\u001B[39m]) \u001B[38;5;241m==\u001B[39m [\u001B[38;5;241m1\u001B[39m, \u001B[38;5;241m2\u001B[39m, \u001B[38;5;241m3\u001B[39m, \u001B[38;5;241m4\u001B[39m, \u001B[38;5;241m5\u001B[39m], \u001B[38;5;124m\"\u001B[39m\u001B[38;5;124mThe numbers should be correctly printed\u001B[39m\u001B[38;5;124m\"\u001B[39m\n\u001B[0;32m     10\u001B[0m     \u001B[38;5;28mprint\u001B[39m(\u001B[38;5;124m\"\u001B[39m\u001B[38;5;124mQuestion 19 is correct!\u001B[39m\u001B[38;5;124m\"\u001B[39m)\n\u001B[1;32m---> 12\u001B[0m \u001B[43mtest_q19\u001B[49m\u001B[43m(\u001B[49m\u001B[43m)\u001B[49m\n",
      "Cell \u001B[1;32mIn[80], line 9\u001B[0m, in \u001B[0;36mtest_q19\u001B[1;34m()\u001B[0m\n\u001B[0;32m      8\u001B[0m \u001B[38;5;28;01mdef\u001B[39;00m \u001B[38;5;21mtest_q19\u001B[39m():\n\u001B[1;32m----> 9\u001B[0m     \u001B[38;5;28;01massert\u001B[39;00m print_list([\u001B[38;5;241m1\u001B[39m, \u001B[38;5;241m2\u001B[39m, \u001B[38;5;241m3\u001B[39m, \u001B[38;5;241m4\u001B[39m, \u001B[38;5;241m5\u001B[39m]) \u001B[38;5;241m==\u001B[39m [\u001B[38;5;241m1\u001B[39m, \u001B[38;5;241m2\u001B[39m, \u001B[38;5;241m3\u001B[39m, \u001B[38;5;241m4\u001B[39m, \u001B[38;5;241m5\u001B[39m], \u001B[38;5;124m\"\u001B[39m\u001B[38;5;124mThe numbers should be correctly printed\u001B[39m\u001B[38;5;124m\"\u001B[39m\n\u001B[0;32m     10\u001B[0m     \u001B[38;5;28mprint\u001B[39m(\u001B[38;5;124m\"\u001B[39m\u001B[38;5;124mQuestion 19 is correct!\u001B[39m\u001B[38;5;124m\"\u001B[39m)\n",
      "\u001B[1;31mAssertionError\u001B[0m: The numbers should be correctly printed"
     ]
    }
   ],
   "execution_count": 80
  },
  {
   "cell_type": "markdown",
   "metadata": {},
   "source": [
    "### Question 20: List slicing\n",
    "\n",
    "Write a program that slices a list and prints the first three items."
   ]
  },
  {
   "cell_type": "code",
   "metadata": {
    "ExecuteTime": {
     "end_time": "2024-07-23T01:55:03.985689Z",
     "start_time": "2024-07-23T01:55:03.937352Z"
    }
   },
   "source": [
    "# Your code here\n",
    "def slice_list(lst):\n",
    "    pass\n",
    "\n",
    "print(slice_list([1, 2, 3, 4, 5]))\n",
    "\n",
    "# Test Function\n",
    "def test_q20():\n",
    "    assert slice_list([1, 2, 3, 4, 5]) == [1, 2, 3], \"The first three items should be correctly sliced\"\n",
    "    print(\"Question 20 is correct!\")\n",
    "\n",
    "test_q20()"
   ],
   "outputs": [
    {
     "name": "stdout",
     "output_type": "stream",
     "text": [
      "None\n"
     ]
    },
    {
     "ename": "AssertionError",
     "evalue": "The first three items should be correctly sliced",
     "output_type": "error",
     "traceback": [
      "\u001B[1;31m---------------------------------------------------------------------------\u001B[0m",
      "\u001B[1;31mAssertionError\u001B[0m                            Traceback (most recent call last)",
      "Cell \u001B[1;32mIn[81], line 12\u001B[0m\n\u001B[0;32m      9\u001B[0m     \u001B[38;5;28;01massert\u001B[39;00m slice_list([\u001B[38;5;241m1\u001B[39m, \u001B[38;5;241m2\u001B[39m, \u001B[38;5;241m3\u001B[39m, \u001B[38;5;241m4\u001B[39m, \u001B[38;5;241m5\u001B[39m]) \u001B[38;5;241m==\u001B[39m [\u001B[38;5;241m1\u001B[39m, \u001B[38;5;241m2\u001B[39m, \u001B[38;5;241m3\u001B[39m], \u001B[38;5;124m\"\u001B[39m\u001B[38;5;124mThe first three items should be correctly sliced\u001B[39m\u001B[38;5;124m\"\u001B[39m\n\u001B[0;32m     10\u001B[0m     \u001B[38;5;28mprint\u001B[39m(\u001B[38;5;124m\"\u001B[39m\u001B[38;5;124mQuestion 20 is correct!\u001B[39m\u001B[38;5;124m\"\u001B[39m)\n\u001B[1;32m---> 12\u001B[0m \u001B[43mtest_q20\u001B[49m\u001B[43m(\u001B[49m\u001B[43m)\u001B[49m\n",
      "Cell \u001B[1;32mIn[81], line 9\u001B[0m, in \u001B[0;36mtest_q20\u001B[1;34m()\u001B[0m\n\u001B[0;32m      8\u001B[0m \u001B[38;5;28;01mdef\u001B[39;00m \u001B[38;5;21mtest_q20\u001B[39m():\n\u001B[1;32m----> 9\u001B[0m     \u001B[38;5;28;01massert\u001B[39;00m slice_list([\u001B[38;5;241m1\u001B[39m, \u001B[38;5;241m2\u001B[39m, \u001B[38;5;241m3\u001B[39m, \u001B[38;5;241m4\u001B[39m, \u001B[38;5;241m5\u001B[39m]) \u001B[38;5;241m==\u001B[39m [\u001B[38;5;241m1\u001B[39m, \u001B[38;5;241m2\u001B[39m, \u001B[38;5;241m3\u001B[39m], \u001B[38;5;124m\"\u001B[39m\u001B[38;5;124mThe first three items should be correctly sliced\u001B[39m\u001B[38;5;124m\"\u001B[39m\n\u001B[0;32m     10\u001B[0m     \u001B[38;5;28mprint\u001B[39m(\u001B[38;5;124m\"\u001B[39m\u001B[38;5;124mQuestion 20 is correct!\u001B[39m\u001B[38;5;124m\"\u001B[39m)\n",
      "\u001B[1;31mAssertionError\u001B[0m: The first three items should be correctly sliced"
     ]
    }
   ],
   "execution_count": 81
  },
  {
   "cell_type": "markdown",
   "metadata": {},
   "source": [
    "### Question 21: Nested loops with lists\n",
    "\n",
    "Write a program that prints a 2D list in a tabular format."
   ]
  },
  {
   "cell_type": "code",
   "metadata": {
    "ExecuteTime": {
     "end_time": "2024-07-23T01:55:04.176684Z",
     "start_time": "2024-07-23T01:55:04.111030Z"
    }
   },
   "source": [
    "# Your code here\n",
    "def print_2d_list(lst):\n",
    "    pass\n",
    "\n",
    "print(print_2d_list([[1, 2, 3], [4, 5, 6], [7, 8, 9]]))\n",
    "\n",
    "# Test Function\n",
    "def test_q21():\n",
    "    expected_output = \"1\\t2\\t3\\t\\n4\\t5\\t6\\t\\n7\\t8\\t9\\t\\n\"\n",
    "    assert print_2d_list([[1, 2, 3], [4, 5, 6], [7, 8, 9]]) == expected_output, \"The 2D list should be printed in a tabular format\"\n",
    "    print(\"Question 21 is correct!\")\n",
    "\n",
    "test_q21()"
   ],
   "outputs": [
    {
     "name": "stdout",
     "output_type": "stream",
     "text": [
      "None\n"
     ]
    },
    {
     "ename": "AssertionError",
     "evalue": "The 2D list should be printed in a tabular format",
     "output_type": "error",
     "traceback": [
      "\u001B[1;31m---------------------------------------------------------------------------\u001B[0m",
      "\u001B[1;31mAssertionError\u001B[0m                            Traceback (most recent call last)",
      "Cell \u001B[1;32mIn[82], line 13\u001B[0m\n\u001B[0;32m     10\u001B[0m     \u001B[38;5;28;01massert\u001B[39;00m print_2d_list([[\u001B[38;5;241m1\u001B[39m, \u001B[38;5;241m2\u001B[39m, \u001B[38;5;241m3\u001B[39m], [\u001B[38;5;241m4\u001B[39m, \u001B[38;5;241m5\u001B[39m, \u001B[38;5;241m6\u001B[39m], [\u001B[38;5;241m7\u001B[39m, \u001B[38;5;241m8\u001B[39m, \u001B[38;5;241m9\u001B[39m]]) \u001B[38;5;241m==\u001B[39m expected_output, \u001B[38;5;124m\"\u001B[39m\u001B[38;5;124mThe 2D list should be printed in a tabular format\u001B[39m\u001B[38;5;124m\"\u001B[39m\n\u001B[0;32m     11\u001B[0m     \u001B[38;5;28mprint\u001B[39m(\u001B[38;5;124m\"\u001B[39m\u001B[38;5;124mQuestion 21 is correct!\u001B[39m\u001B[38;5;124m\"\u001B[39m)\n\u001B[1;32m---> 13\u001B[0m \u001B[43mtest_q21\u001B[49m\u001B[43m(\u001B[49m\u001B[43m)\u001B[49m\n",
      "Cell \u001B[1;32mIn[82], line 10\u001B[0m, in \u001B[0;36mtest_q21\u001B[1;34m()\u001B[0m\n\u001B[0;32m      8\u001B[0m \u001B[38;5;28;01mdef\u001B[39;00m \u001B[38;5;21mtest_q21\u001B[39m():\n\u001B[0;32m      9\u001B[0m     expected_output \u001B[38;5;241m=\u001B[39m \u001B[38;5;124m\"\u001B[39m\u001B[38;5;124m1\u001B[39m\u001B[38;5;130;01m\\t\u001B[39;00m\u001B[38;5;124m2\u001B[39m\u001B[38;5;130;01m\\t\u001B[39;00m\u001B[38;5;124m3\u001B[39m\u001B[38;5;130;01m\\t\u001B[39;00m\u001B[38;5;130;01m\\n\u001B[39;00m\u001B[38;5;124m4\u001B[39m\u001B[38;5;130;01m\\t\u001B[39;00m\u001B[38;5;124m5\u001B[39m\u001B[38;5;130;01m\\t\u001B[39;00m\u001B[38;5;124m6\u001B[39m\u001B[38;5;130;01m\\t\u001B[39;00m\u001B[38;5;130;01m\\n\u001B[39;00m\u001B[38;5;124m7\u001B[39m\u001B[38;5;130;01m\\t\u001B[39;00m\u001B[38;5;124m8\u001B[39m\u001B[38;5;130;01m\\t\u001B[39;00m\u001B[38;5;124m9\u001B[39m\u001B[38;5;130;01m\\t\u001B[39;00m\u001B[38;5;130;01m\\n\u001B[39;00m\u001B[38;5;124m\"\u001B[39m\n\u001B[1;32m---> 10\u001B[0m     \u001B[38;5;28;01massert\u001B[39;00m print_2d_list([[\u001B[38;5;241m1\u001B[39m, \u001B[38;5;241m2\u001B[39m, \u001B[38;5;241m3\u001B[39m], [\u001B[38;5;241m4\u001B[39m, \u001B[38;5;241m5\u001B[39m, \u001B[38;5;241m6\u001B[39m], [\u001B[38;5;241m7\u001B[39m, \u001B[38;5;241m8\u001B[39m, \u001B[38;5;241m9\u001B[39m]]) \u001B[38;5;241m==\u001B[39m expected_output, \u001B[38;5;124m\"\u001B[39m\u001B[38;5;124mThe 2D list should be printed in a tabular format\u001B[39m\u001B[38;5;124m\"\u001B[39m\n\u001B[0;32m     11\u001B[0m     \u001B[38;5;28mprint\u001B[39m(\u001B[38;5;124m\"\u001B[39m\u001B[38;5;124mQuestion 21 is correct!\u001B[39m\u001B[38;5;124m\"\u001B[39m)\n",
      "\u001B[1;31mAssertionError\u001B[0m: The 2D list should be printed in a tabular format"
     ]
    }
   ],
   "execution_count": 82
  },
  {
   "cell_type": "markdown",
   "metadata": {},
   "source": [
    "### Question 22: List comprehension\n",
    "\n",
    "Write a program that uses list comprehension to create a list of squares of numbers from 1 to 10."
   ]
  },
  {
   "cell_type": "code",
   "metadata": {
    "ExecuteTime": {
     "end_time": "2024-07-23T01:55:04.184916Z",
     "start_time": "2024-07-23T01:55:04.183912Z"
    }
   },
   "source": [
    "# Your code here\n",
    "def squares_list():\n",
    "    pass\n",
    "\n",
    "print(squares_list())\n",
    "\n",
    "# Test Function\n",
    "def test_q22():\n",
    "    assert squares_list() == [1, 4, 9, 16, 25, 36, 49, 64, 81, 100], \"The list of squares should be correctly created\"\n",
    "    print(\"Question 22 is correct!\")\n",
    "\n",
    "test_q22()"
   ],
   "outputs": [],
   "execution_count": null
  },
  {
   "cell_type": "markdown",
   "metadata": {},
   "source": [
    "### Question 23: List methods\n",
    "\n",
    "Write a program that sorts a list of numbers in ascending order."
   ]
  },
  {
   "cell_type": "code",
   "metadata": {
    "ExecuteTime": {
     "end_time": "2024-07-23T01:55:04.371871Z",
     "start_time": "2024-07-23T01:55:04.315300Z"
    }
   },
   "source": [
    "# Your code here\n",
    "def sort_list(lst):\n",
    "    pass\n",
    "\n",
    "print(sort_list([3, 1, 4, 1, 5, 9]))\n",
    "\n",
    "# Test Function\n",
    "def test_q23():\n",
    "    assert sort_list([3, 1, 4, 1, 5, 9]) == [1, 1, 3, 4, 5, 9], \"The list should be correctly sorted\"\n",
    "    print(\"Question 23 is correct!\")\n",
    "\n",
    "test_q23()"
   ],
   "outputs": [
    {
     "name": "stdout",
     "output_type": "stream",
     "text": [
      "None\n"
     ]
    },
    {
     "ename": "AssertionError",
     "evalue": "The list should be correctly sorted",
     "output_type": "error",
     "traceback": [
      "\u001B[1;31m---------------------------------------------------------------------------\u001B[0m",
      "\u001B[1;31mAssertionError\u001B[0m                            Traceback (most recent call last)",
      "Cell \u001B[1;32mIn[83], line 12\u001B[0m\n\u001B[0;32m      9\u001B[0m     \u001B[38;5;28;01massert\u001B[39;00m sort_list([\u001B[38;5;241m3\u001B[39m, \u001B[38;5;241m1\u001B[39m, \u001B[38;5;241m4\u001B[39m, \u001B[38;5;241m1\u001B[39m, \u001B[38;5;241m5\u001B[39m, \u001B[38;5;241m9\u001B[39m]) \u001B[38;5;241m==\u001B[39m [\u001B[38;5;241m1\u001B[39m, \u001B[38;5;241m1\u001B[39m, \u001B[38;5;241m3\u001B[39m, \u001B[38;5;241m4\u001B[39m, \u001B[38;5;241m5\u001B[39m, \u001B[38;5;241m9\u001B[39m], \u001B[38;5;124m\"\u001B[39m\u001B[38;5;124mThe list should be correctly sorted\u001B[39m\u001B[38;5;124m\"\u001B[39m\n\u001B[0;32m     10\u001B[0m     \u001B[38;5;28mprint\u001B[39m(\u001B[38;5;124m\"\u001B[39m\u001B[38;5;124mQuestion 23 is correct!\u001B[39m\u001B[38;5;124m\"\u001B[39m)\n\u001B[1;32m---> 12\u001B[0m \u001B[43mtest_q23\u001B[49m\u001B[43m(\u001B[49m\u001B[43m)\u001B[49m\n",
      "Cell \u001B[1;32mIn[83], line 9\u001B[0m, in \u001B[0;36mtest_q23\u001B[1;34m()\u001B[0m\n\u001B[0;32m      8\u001B[0m \u001B[38;5;28;01mdef\u001B[39;00m \u001B[38;5;21mtest_q23\u001B[39m():\n\u001B[1;32m----> 9\u001B[0m     \u001B[38;5;28;01massert\u001B[39;00m sort_list([\u001B[38;5;241m3\u001B[39m, \u001B[38;5;241m1\u001B[39m, \u001B[38;5;241m4\u001B[39m, \u001B[38;5;241m1\u001B[39m, \u001B[38;5;241m5\u001B[39m, \u001B[38;5;241m9\u001B[39m]) \u001B[38;5;241m==\u001B[39m [\u001B[38;5;241m1\u001B[39m, \u001B[38;5;241m1\u001B[39m, \u001B[38;5;241m3\u001B[39m, \u001B[38;5;241m4\u001B[39m, \u001B[38;5;241m5\u001B[39m, \u001B[38;5;241m9\u001B[39m], \u001B[38;5;124m\"\u001B[39m\u001B[38;5;124mThe list should be correctly sorted\u001B[39m\u001B[38;5;124m\"\u001B[39m\n\u001B[0;32m     10\u001B[0m     \u001B[38;5;28mprint\u001B[39m(\u001B[38;5;124m\"\u001B[39m\u001B[38;5;124mQuestion 23 is correct!\u001B[39m\u001B[38;5;124m\"\u001B[39m)\n",
      "\u001B[1;31mAssertionError\u001B[0m: The list should be correctly sorted"
     ]
    }
   ],
   "execution_count": 83
  },
  {
   "cell_type": "markdown",
   "metadata": {},
   "source": [
    "# Week 4: File I/O"
   ]
  },
  {
   "cell_type": "markdown",
   "metadata": {},
   "source": [
    "### Question 24: Read from a file\n",
    "\n",
    "Write a program that reads the contents of a file and prints them."
   ]
  },
  {
   "cell_type": "code",
   "metadata": {
    "ExecuteTime": {
     "end_time": "2024-07-23T01:55:04.376989Z",
     "start_time": "2024-07-23T01:55:04.375988Z"
    }
   },
   "source": [
    "# Your code here\n",
    "def read_file(filename):\n",
    "    pass\n",
    "\n",
    "# Create a sample file for testing\n",
    "with open(\"sample.txt\", \"w\") as file:\n",
    "    file.write(\"Hello, World!\")\n",
    "\n",
    "print(read_file(\"sample.txt\"))\n",
    "\n",
    "# Test Function\n",
    "def test_q24():\n",
    "    assert read_file(\"sample.txt\") == \"Hello, World!\", \"The file content should be correctly read\"\n",
    "    print(\"Question 24 is correct!\")\n",
    "\n",
    "test_q24()"
   ],
   "outputs": [],
   "execution_count": null
  },
  {
   "cell_type": "markdown",
   "metadata": {},
   "source": [
    "### Question 25: Write to a file\n",
    "\n",
    "Write a program that writes user input to a file."
   ]
  },
  {
   "cell_type": "code",
   "metadata": {
    "ExecuteTime": {
     "end_time": "2024-07-23T01:55:04.591935Z",
     "start_time": "2024-07-23T01:55:04.524881Z"
    }
   },
   "source": [
    "# Your code here\n",
    "def write_file(filename, content):\n",
    "    pass\n",
    "\n",
    "print(write_file(\"output.txt\", \"This is a test.\"))\n",
    "\n",
    "# Test Function\n",
    "def test_q25():\n",
    "    assert write_file(\"output.txt\", \"This is a test.\") == \"Write successful\", \"The content should be correctly written to the file\"\n",
    "    with open(\"output.txt\", \"r\") as file:\n",
    "        assert file.read() == \"This is a test.\", \"The file content should match the input\"\n",
    "    print(\"Question 25 is correct!\")\n",
    "\n",
    "test_q25()"
   ],
   "outputs": [
    {
     "name": "stdout",
     "output_type": "stream",
     "text": [
      "None\n"
     ]
    },
    {
     "ename": "AssertionError",
     "evalue": "The content should be correctly written to the file",
     "output_type": "error",
     "traceback": [
      "\u001B[1;31m---------------------------------------------------------------------------\u001B[0m",
      "\u001B[1;31mAssertionError\u001B[0m                            Traceback (most recent call last)",
      "Cell \u001B[1;32mIn[84], line 14\u001B[0m\n\u001B[0;32m     11\u001B[0m         \u001B[38;5;28;01massert\u001B[39;00m file\u001B[38;5;241m.\u001B[39mread() \u001B[38;5;241m==\u001B[39m \u001B[38;5;124m\"\u001B[39m\u001B[38;5;124mThis is a test.\u001B[39m\u001B[38;5;124m\"\u001B[39m, \u001B[38;5;124m\"\u001B[39m\u001B[38;5;124mThe file content should match the input\u001B[39m\u001B[38;5;124m\"\u001B[39m\n\u001B[0;32m     12\u001B[0m     \u001B[38;5;28mprint\u001B[39m(\u001B[38;5;124m\"\u001B[39m\u001B[38;5;124mQuestion 25 is correct!\u001B[39m\u001B[38;5;124m\"\u001B[39m)\n\u001B[1;32m---> 14\u001B[0m \u001B[43mtest_q25\u001B[49m\u001B[43m(\u001B[49m\u001B[43m)\u001B[49m\n",
      "Cell \u001B[1;32mIn[84], line 9\u001B[0m, in \u001B[0;36mtest_q25\u001B[1;34m()\u001B[0m\n\u001B[0;32m      8\u001B[0m \u001B[38;5;28;01mdef\u001B[39;00m \u001B[38;5;21mtest_q25\u001B[39m():\n\u001B[1;32m----> 9\u001B[0m     \u001B[38;5;28;01massert\u001B[39;00m write_file(\u001B[38;5;124m\"\u001B[39m\u001B[38;5;124moutput.txt\u001B[39m\u001B[38;5;124m\"\u001B[39m, \u001B[38;5;124m\"\u001B[39m\u001B[38;5;124mThis is a test.\u001B[39m\u001B[38;5;124m\"\u001B[39m) \u001B[38;5;241m==\u001B[39m \u001B[38;5;124m\"\u001B[39m\u001B[38;5;124mWrite successful\u001B[39m\u001B[38;5;124m\"\u001B[39m, \u001B[38;5;124m\"\u001B[39m\u001B[38;5;124mThe content should be correctly written to the file\u001B[39m\u001B[38;5;124m\"\u001B[39m\n\u001B[0;32m     10\u001B[0m     \u001B[38;5;28;01mwith\u001B[39;00m \u001B[38;5;28mopen\u001B[39m(\u001B[38;5;124m\"\u001B[39m\u001B[38;5;124moutput.txt\u001B[39m\u001B[38;5;124m\"\u001B[39m, \u001B[38;5;124m\"\u001B[39m\u001B[38;5;124mr\u001B[39m\u001B[38;5;124m\"\u001B[39m) \u001B[38;5;28;01mas\u001B[39;00m file:\n\u001B[0;32m     11\u001B[0m         \u001B[38;5;28;01massert\u001B[39;00m file\u001B[38;5;241m.\u001B[39mread() \u001B[38;5;241m==\u001B[39m \u001B[38;5;124m\"\u001B[39m\u001B[38;5;124mThis is a test.\u001B[39m\u001B[38;5;124m\"\u001B[39m, \u001B[38;5;124m\"\u001B[39m\u001B[38;5;124mThe file content should match the input\u001B[39m\u001B[38;5;124m\"\u001B[39m\n",
      "\u001B[1;31mAssertionError\u001B[0m: The content should be correctly written to the file"
     ]
    }
   ],
   "execution_count": 84
  },
  {
   "cell_type": "markdown",
   "metadata": {},
   "source": [
    "### Question 26: Append to a file\n",
    "\n",
    "Write a program that appends a new line of text to a file and reads the updated file."
   ]
  },
  {
   "cell_type": "code",
   "metadata": {
    "ExecuteTime": {
     "end_time": "2024-07-23T01:55:04.599191Z",
     "start_time": "2024-07-23T01:55:04.598187Z"
    }
   },
   "source": [
    "# Your code here\n",
    "def append_file(filename, content):\n",
    "    pass\n",
    "\n",
    "print(append_file(\"output.txt\", \"Appending this line.\"))\n",
    "\n",
    "# Test Function\n",
    "def test_q26():\n",
    "    updated_content = append_file(\"output.txt\", \"Appending this line.\")\n",
    "    assert \"Appending this line.\" in updated_content, \"The new line should be appended to the file\"\n",
    "    print(\"Question 26 is correct!\")\n",
    "\n",
    "test_q26()"
   ],
   "outputs": [],
   "execution_count": null
  },
  {
   "cell_type": "markdown",
   "metadata": {},
   "source": [
    "### Question 27: Read file into a list\n",
    "\n",
    "Write a program that reads the lines of a file into a list."
   ]
  },
  {
   "cell_type": "code",
   "metadata": {
    "ExecuteTime": {
     "end_time": "2024-07-23T01:55:04.807159Z",
     "start_time": "2024-07-23T01:55:04.764386Z"
    }
   },
   "source": [
    "# Your code here\n",
    "def read_file_to_list(filename):\n",
    "    pass\n",
    "\n",
    "print(read_file_to_list(\"output.txt\"))\n",
    "\n",
    "# Test Function\n",
    "def test_q27():\n",
    "    assert read_file_to_list(\"output.txt\") == [\"This is a test.\\n\", \"Appending this line.\\n\", \"Appending this line.\\n\"], \"The lines should be correctly read into a list\"\n",
    "    print(\"Question 27 is correct!\")\n",
    "\n",
    "test_q27()"
   ],
   "outputs": [
    {
     "name": "stdout",
     "output_type": "stream",
     "text": [
      "None\n"
     ]
    },
    {
     "ename": "AssertionError",
     "evalue": "The lines should be correctly read into a list",
     "output_type": "error",
     "traceback": [
      "\u001B[1;31m---------------------------------------------------------------------------\u001B[0m",
      "\u001B[1;31mAssertionError\u001B[0m                            Traceback (most recent call last)",
      "Cell \u001B[1;32mIn[85], line 12\u001B[0m\n\u001B[0;32m      9\u001B[0m     \u001B[38;5;28;01massert\u001B[39;00m read_file_to_list(\u001B[38;5;124m\"\u001B[39m\u001B[38;5;124moutput.txt\u001B[39m\u001B[38;5;124m\"\u001B[39m) \u001B[38;5;241m==\u001B[39m [\u001B[38;5;124m\"\u001B[39m\u001B[38;5;124mThis is a test.\u001B[39m\u001B[38;5;130;01m\\n\u001B[39;00m\u001B[38;5;124m\"\u001B[39m, \u001B[38;5;124m\"\u001B[39m\u001B[38;5;124mAppending this line.\u001B[39m\u001B[38;5;130;01m\\n\u001B[39;00m\u001B[38;5;124m\"\u001B[39m, \u001B[38;5;124m\"\u001B[39m\u001B[38;5;124mAppending this line.\u001B[39m\u001B[38;5;130;01m\\n\u001B[39;00m\u001B[38;5;124m\"\u001B[39m], \u001B[38;5;124m\"\u001B[39m\u001B[38;5;124mThe lines should be correctly read into a list\u001B[39m\u001B[38;5;124m\"\u001B[39m\n\u001B[0;32m     10\u001B[0m     \u001B[38;5;28mprint\u001B[39m(\u001B[38;5;124m\"\u001B[39m\u001B[38;5;124mQuestion 27 is correct!\u001B[39m\u001B[38;5;124m\"\u001B[39m)\n\u001B[1;32m---> 12\u001B[0m \u001B[43mtest_q27\u001B[49m\u001B[43m(\u001B[49m\u001B[43m)\u001B[49m\n",
      "Cell \u001B[1;32mIn[85], line 9\u001B[0m, in \u001B[0;36mtest_q27\u001B[1;34m()\u001B[0m\n\u001B[0;32m      8\u001B[0m \u001B[38;5;28;01mdef\u001B[39;00m \u001B[38;5;21mtest_q27\u001B[39m():\n\u001B[1;32m----> 9\u001B[0m     \u001B[38;5;28;01massert\u001B[39;00m read_file_to_list(\u001B[38;5;124m\"\u001B[39m\u001B[38;5;124moutput.txt\u001B[39m\u001B[38;5;124m\"\u001B[39m) \u001B[38;5;241m==\u001B[39m [\u001B[38;5;124m\"\u001B[39m\u001B[38;5;124mThis is a test.\u001B[39m\u001B[38;5;130;01m\\n\u001B[39;00m\u001B[38;5;124m\"\u001B[39m, \u001B[38;5;124m\"\u001B[39m\u001B[38;5;124mAppending this line.\u001B[39m\u001B[38;5;130;01m\\n\u001B[39;00m\u001B[38;5;124m\"\u001B[39m, \u001B[38;5;124m\"\u001B[39m\u001B[38;5;124mAppending this line.\u001B[39m\u001B[38;5;130;01m\\n\u001B[39;00m\u001B[38;5;124m\"\u001B[39m], \u001B[38;5;124m\"\u001B[39m\u001B[38;5;124mThe lines should be correctly read into a list\u001B[39m\u001B[38;5;124m\"\u001B[39m\n\u001B[0;32m     10\u001B[0m     \u001B[38;5;28mprint\u001B[39m(\u001B[38;5;124m\"\u001B[39m\u001B[38;5;124mQuestion 27 is correct!\u001B[39m\u001B[38;5;124m\"\u001B[39m)\n",
      "\u001B[1;31mAssertionError\u001B[0m: The lines should be correctly read into a list"
     ]
    }
   ],
   "execution_count": 85
  },
  {
   "cell_type": "markdown",
   "metadata": {},
   "source": [
    "### Question 28: Write list to a file\n",
    "\n",
    "Write a program that writes the elements of a list to a file."
   ]
  },
  {
   "cell_type": "code",
   "metadata": {
    "ExecuteTime": {
     "end_time": "2024-07-23T01:55:04.958761Z",
     "start_time": "2024-07-23T01:55:04.904521Z"
    }
   },
   "source": [
    "# Your code here\n",
    "def write_list_to_file(filename, lst):\n",
    "    pass\n",
    "\n",
    "print(write_list_to_file(\"list_output.txt\", [\"Line 1\", \"Line 2\", \"Line 3\"]))\n",
    "\n",
    "# Test Function\n",
    "def test_q28():\n",
    "    assert write_list_to_file(\"list_output.txt\", [\"Line 1\", \"Line 2\", \"Line 3\"]) == \"Write successful\", \"The list should be correctly written to the file\"\n",
    "    with open(\"list_output.txt\", \"r\") as file:\n",
    "        assert file.read() == \"Line 1\\nLine 2\\nLine 3\\n\", \"The file content should match the list items\"\n",
    "    print(\"Question 28 is correct!\")\n",
    "\n",
    "test_q28()"
   ],
   "outputs": [
    {
     "name": "stdout",
     "output_type": "stream",
     "text": [
      "None\n"
     ]
    },
    {
     "ename": "AssertionError",
     "evalue": "The list should be correctly written to the file",
     "output_type": "error",
     "traceback": [
      "\u001B[1;31m---------------------------------------------------------------------------\u001B[0m",
      "\u001B[1;31mAssertionError\u001B[0m                            Traceback (most recent call last)",
      "Cell \u001B[1;32mIn[86], line 14\u001B[0m\n\u001B[0;32m     11\u001B[0m         \u001B[38;5;28;01massert\u001B[39;00m file\u001B[38;5;241m.\u001B[39mread() \u001B[38;5;241m==\u001B[39m \u001B[38;5;124m\"\u001B[39m\u001B[38;5;124mLine 1\u001B[39m\u001B[38;5;130;01m\\n\u001B[39;00m\u001B[38;5;124mLine 2\u001B[39m\u001B[38;5;130;01m\\n\u001B[39;00m\u001B[38;5;124mLine 3\u001B[39m\u001B[38;5;130;01m\\n\u001B[39;00m\u001B[38;5;124m\"\u001B[39m, \u001B[38;5;124m\"\u001B[39m\u001B[38;5;124mThe file content should match the list items\u001B[39m\u001B[38;5;124m\"\u001B[39m\n\u001B[0;32m     12\u001B[0m     \u001B[38;5;28mprint\u001B[39m(\u001B[38;5;124m\"\u001B[39m\u001B[38;5;124mQuestion 28 is correct!\u001B[39m\u001B[38;5;124m\"\u001B[39m)\n\u001B[1;32m---> 14\u001B[0m \u001B[43mtest_q28\u001B[49m\u001B[43m(\u001B[49m\u001B[43m)\u001B[49m\n",
      "Cell \u001B[1;32mIn[86], line 9\u001B[0m, in \u001B[0;36mtest_q28\u001B[1;34m()\u001B[0m\n\u001B[0;32m      8\u001B[0m \u001B[38;5;28;01mdef\u001B[39;00m \u001B[38;5;21mtest_q28\u001B[39m():\n\u001B[1;32m----> 9\u001B[0m     \u001B[38;5;28;01massert\u001B[39;00m write_list_to_file(\u001B[38;5;124m\"\u001B[39m\u001B[38;5;124mlist_output.txt\u001B[39m\u001B[38;5;124m\"\u001B[39m, [\u001B[38;5;124m\"\u001B[39m\u001B[38;5;124mLine 1\u001B[39m\u001B[38;5;124m\"\u001B[39m, \u001B[38;5;124m\"\u001B[39m\u001B[38;5;124mLine 2\u001B[39m\u001B[38;5;124m\"\u001B[39m, \u001B[38;5;124m\"\u001B[39m\u001B[38;5;124mLine 3\u001B[39m\u001B[38;5;124m\"\u001B[39m]) \u001B[38;5;241m==\u001B[39m \u001B[38;5;124m\"\u001B[39m\u001B[38;5;124mWrite successful\u001B[39m\u001B[38;5;124m\"\u001B[39m, \u001B[38;5;124m\"\u001B[39m\u001B[38;5;124mThe list should be correctly written to the file\u001B[39m\u001B[38;5;124m\"\u001B[39m\n\u001B[0;32m     10\u001B[0m     \u001B[38;5;28;01mwith\u001B[39;00m \u001B[38;5;28mopen\u001B[39m(\u001B[38;5;124m\"\u001B[39m\u001B[38;5;124mlist_output.txt\u001B[39m\u001B[38;5;124m\"\u001B[39m, \u001B[38;5;124m\"\u001B[39m\u001B[38;5;124mr\u001B[39m\u001B[38;5;124m\"\u001B[39m) \u001B[38;5;28;01mas\u001B[39;00m file:\n\u001B[0;32m     11\u001B[0m         \u001B[38;5;28;01massert\u001B[39;00m file\u001B[38;5;241m.\u001B[39mread() \u001B[38;5;241m==\u001B[39m \u001B[38;5;124m\"\u001B[39m\u001B[38;5;124mLine 1\u001B[39m\u001B[38;5;130;01m\\n\u001B[39;00m\u001B[38;5;124mLine 2\u001B[39m\u001B[38;5;130;01m\\n\u001B[39;00m\u001B[38;5;124mLine 3\u001B[39m\u001B[38;5;130;01m\\n\u001B[39;00m\u001B[38;5;124m\"\u001B[39m, \u001B[38;5;124m\"\u001B[39m\u001B[38;5;124mThe file content should match the list items\u001B[39m\u001B[38;5;124m\"\u001B[39m\n",
      "\u001B[1;31mAssertionError\u001B[0m: The list should be correctly written to the file"
     ]
    }
   ],
   "execution_count": 86
  },
  {
   "cell_type": "markdown",
   "metadata": {},
   "source": [
    "### Question 29: File I/O with exception handling\n",
    "\n",
    "Write a program that handles file not found errors when reading a file."
   ]
  },
  {
   "cell_type": "code",
   "metadata": {
    "ExecuteTime": {
     "end_time": "2024-07-23T01:55:05.028987Z",
     "start_time": "2024-07-23T01:55:04.973876Z"
    }
   },
   "source": [
    "# Your code here\n",
    "def read_file_with_exception_handling(filename):\n",
    "    pass\n",
    "\n",
    "print(read_file_with_exception_handling(\"non_existent_file.txt\"))\n",
    "\n",
    "# Test Function\n",
    "def test_q29():\n",
    "    assert read_file_with_exception_handling(\"non_existent_file.txt\") == \"File not found\", \"The function should handle file not found errors\"\n",
    "    print(\"Question 29 is correct!\")\n",
    "\n",
    "test_q29()"
   ],
   "outputs": [
    {
     "name": "stdout",
     "output_type": "stream",
     "text": [
      "None\n"
     ]
    },
    {
     "ename": "AssertionError",
     "evalue": "The function should handle file not found errors",
     "output_type": "error",
     "traceback": [
      "\u001B[1;31m---------------------------------------------------------------------------\u001B[0m",
      "\u001B[1;31mAssertionError\u001B[0m                            Traceback (most recent call last)",
      "Cell \u001B[1;32mIn[87], line 12\u001B[0m\n\u001B[0;32m      9\u001B[0m     \u001B[38;5;28;01massert\u001B[39;00m read_file_with_exception_handling(\u001B[38;5;124m\"\u001B[39m\u001B[38;5;124mnon_existent_file.txt\u001B[39m\u001B[38;5;124m\"\u001B[39m) \u001B[38;5;241m==\u001B[39m \u001B[38;5;124m\"\u001B[39m\u001B[38;5;124mFile not found\u001B[39m\u001B[38;5;124m\"\u001B[39m, \u001B[38;5;124m\"\u001B[39m\u001B[38;5;124mThe function should handle file not found errors\u001B[39m\u001B[38;5;124m\"\u001B[39m\n\u001B[0;32m     10\u001B[0m     \u001B[38;5;28mprint\u001B[39m(\u001B[38;5;124m\"\u001B[39m\u001B[38;5;124mQuestion 29 is correct!\u001B[39m\u001B[38;5;124m\"\u001B[39m)\n\u001B[1;32m---> 12\u001B[0m \u001B[43mtest_q29\u001B[49m\u001B[43m(\u001B[49m\u001B[43m)\u001B[49m\n",
      "Cell \u001B[1;32mIn[87], line 9\u001B[0m, in \u001B[0;36mtest_q29\u001B[1;34m()\u001B[0m\n\u001B[0;32m      8\u001B[0m \u001B[38;5;28;01mdef\u001B[39;00m \u001B[38;5;21mtest_q29\u001B[39m():\n\u001B[1;32m----> 9\u001B[0m     \u001B[38;5;28;01massert\u001B[39;00m read_file_with_exception_handling(\u001B[38;5;124m\"\u001B[39m\u001B[38;5;124mnon_existent_file.txt\u001B[39m\u001B[38;5;124m\"\u001B[39m) \u001B[38;5;241m==\u001B[39m \u001B[38;5;124m\"\u001B[39m\u001B[38;5;124mFile not found\u001B[39m\u001B[38;5;124m\"\u001B[39m, \u001B[38;5;124m\"\u001B[39m\u001B[38;5;124mThe function should handle file not found errors\u001B[39m\u001B[38;5;124m\"\u001B[39m\n\u001B[0;32m     10\u001B[0m     \u001B[38;5;28mprint\u001B[39m(\u001B[38;5;124m\"\u001B[39m\u001B[38;5;124mQuestion 29 is correct!\u001B[39m\u001B[38;5;124m\"\u001B[39m)\n",
      "\u001B[1;31mAssertionError\u001B[0m: The function should handle file not found errors"
     ]
    }
   ],
   "execution_count": 87
  },
  {
   "cell_type": "markdown",
   "metadata": {},
   "source": [
    "### Question 30: File I/O with dictionaries\n",
    "\n",
    "Write a program that reads student names and grades from a file into a dictionary."
   ]
  },
  {
   "cell_type": "code",
   "metadata": {
    "ExecuteTime": {
     "end_time": "2024-07-23T01:55:05.208482Z",
     "start_time": "2024-07-23T01:55:05.153236Z"
    }
   },
   "source": [
    "# Your code here\n",
    "def read_grades_to_dict(filename):\n",
    "    pass\n",
    "\n",
    "# Create a sample file for testing\n",
    "with open(\"grades.txt\", \"w\") as file:\n",
    "    file.write(\"Alice,90\\nBob,85\\nCharlie,95\")\n",
    "\n",
    "print(read_grades_to_dict(\"grades.txt\"))\n",
    "\n",
    "# Test Function\n",
    "def test_q30():\n",
    "    assert read_grades_to_dict(\"grades.txt\") == {\"Alice\": 90, \"Bob\": 85, \"Charlie\": 95}, \"The student names and grades should be correctly read into a dictionary\"\n",
    "    print(\"Question 30 is correct!\")\n",
    "\n",
    "test_q30()"
   ],
   "outputs": [
    {
     "name": "stdout",
     "output_type": "stream",
     "text": [
      "None\n"
     ]
    },
    {
     "ename": "AssertionError",
     "evalue": "The student names and grades should be correctly read into a dictionary",
     "output_type": "error",
     "traceback": [
      "\u001B[1;31m---------------------------------------------------------------------------\u001B[0m",
      "\u001B[1;31mAssertionError\u001B[0m                            Traceback (most recent call last)",
      "Cell \u001B[1;32mIn[88], line 16\u001B[0m\n\u001B[0;32m     13\u001B[0m     \u001B[38;5;28;01massert\u001B[39;00m read_grades_to_dict(\u001B[38;5;124m\"\u001B[39m\u001B[38;5;124mgrades.txt\u001B[39m\u001B[38;5;124m\"\u001B[39m) \u001B[38;5;241m==\u001B[39m {\u001B[38;5;124m\"\u001B[39m\u001B[38;5;124mAlice\u001B[39m\u001B[38;5;124m\"\u001B[39m: \u001B[38;5;241m90\u001B[39m, \u001B[38;5;124m\"\u001B[39m\u001B[38;5;124mBob\u001B[39m\u001B[38;5;124m\"\u001B[39m: \u001B[38;5;241m85\u001B[39m, \u001B[38;5;124m\"\u001B[39m\u001B[38;5;124mCharlie\u001B[39m\u001B[38;5;124m\"\u001B[39m: \u001B[38;5;241m95\u001B[39m}, \u001B[38;5;124m\"\u001B[39m\u001B[38;5;124mThe student names and grades should be correctly read into a dictionary\u001B[39m\u001B[38;5;124m\"\u001B[39m\n\u001B[0;32m     14\u001B[0m     \u001B[38;5;28mprint\u001B[39m(\u001B[38;5;124m\"\u001B[39m\u001B[38;5;124mQuestion 30 is correct!\u001B[39m\u001B[38;5;124m\"\u001B[39m)\n\u001B[1;32m---> 16\u001B[0m \u001B[43mtest_q30\u001B[49m\u001B[43m(\u001B[49m\u001B[43m)\u001B[49m\n",
      "Cell \u001B[1;32mIn[88], line 13\u001B[0m, in \u001B[0;36mtest_q30\u001B[1;34m()\u001B[0m\n\u001B[0;32m     12\u001B[0m \u001B[38;5;28;01mdef\u001B[39;00m \u001B[38;5;21mtest_q30\u001B[39m():\n\u001B[1;32m---> 13\u001B[0m     \u001B[38;5;28;01massert\u001B[39;00m read_grades_to_dict(\u001B[38;5;124m\"\u001B[39m\u001B[38;5;124mgrades.txt\u001B[39m\u001B[38;5;124m\"\u001B[39m) \u001B[38;5;241m==\u001B[39m {\u001B[38;5;124m\"\u001B[39m\u001B[38;5;124mAlice\u001B[39m\u001B[38;5;124m\"\u001B[39m: \u001B[38;5;241m90\u001B[39m, \u001B[38;5;124m\"\u001B[39m\u001B[38;5;124mBob\u001B[39m\u001B[38;5;124m\"\u001B[39m: \u001B[38;5;241m85\u001B[39m, \u001B[38;5;124m\"\u001B[39m\u001B[38;5;124mCharlie\u001B[39m\u001B[38;5;124m\"\u001B[39m: \u001B[38;5;241m95\u001B[39m}, \u001B[38;5;124m\"\u001B[39m\u001B[38;5;124mThe student names and grades should be correctly read into a dictionary\u001B[39m\u001B[38;5;124m\"\u001B[39m\n\u001B[0;32m     14\u001B[0m     \u001B[38;5;28mprint\u001B[39m(\u001B[38;5;124m\"\u001B[39m\u001B[38;5;124mQuestion 30 is correct!\u001B[39m\u001B[38;5;124m\"\u001B[39m)\n",
      "\u001B[1;31mAssertionError\u001B[0m: The student names and grades should be correctly read into a dictionary"
     ]
    }
   ],
   "execution_count": 88
  }
 ],
 "metadata": {
  "kernelspec": {
   "display_name": "Python 3",
   "language": "python",
   "name": "python3"
  },
  "language_info": {
   "codemirror_mode": {
    "name": "ipython",
    "version": 3
   },
   "file_extension": ".py",
   "mimetype": "text/x-python",
   "name": "python",
   "nbconvert_exporter": "python",
   "pygments_lexer": "ipython3",
   "version": "3.8.5"
  }
 },
 "nbformat": 4,
 "nbformat_minor": 4
}
